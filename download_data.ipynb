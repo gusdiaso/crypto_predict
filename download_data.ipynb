{
 "cells": [
  {
   "cell_type": "markdown",
   "id": "718ab59a",
   "metadata": {},
   "source": [
    "#### Coleta de Dados das Criptomoedas"
   ]
  },
  {
   "cell_type": "code",
   "execution_count": 1,
   "id": "126f12b1",
   "metadata": {},
   "outputs": [
    {
     "name": "stderr",
     "output_type": "stream",
     "text": [
      "[*********************100%***********************]  1 of 1 completed\n",
      "[*********************100%***********************]  1 of 1 completed\n",
      "[*********************100%***********************]  1 of 1 completed\n",
      "[*********************100%***********************]  1 of 1 completed\n"
     ]
    }
   ],
   "source": [
    "import yfinance as yf\n",
    "import time\n",
    "\n",
    "\n",
    "cryptos = ['BTC-USD', 'ETH-USD', 'SOL-USD', 'ADA-USD']\n",
    "\n",
    "try:\n",
    "    for crypto in cryptos:\n",
    "        data = yf.download(crypto, period='max', interval='1d', auto_adjust=True)\n",
    "        data.to_csv(f'./data/{crypto}.csv')\n",
    "        if crypto != cryptos[-1]:\n",
    "            time.sleep(10)\n",
    "\n",
    "except Exception as err:\n",
    "    print(f\"Não foi possivel baixar os dados: {err}\")"
   ]
  }
 ],
 "metadata": {
  "kernelspec": {
   "display_name": "venv",
   "language": "python",
   "name": "python3"
  },
  "language_info": {
   "codemirror_mode": {
    "name": "ipython",
    "version": 3
   },
   "file_extension": ".py",
   "mimetype": "text/x-python",
   "name": "python",
   "nbconvert_exporter": "python",
   "pygments_lexer": "ipython3",
   "version": "3.12.3"
  }
 },
 "nbformat": 4,
 "nbformat_minor": 5
}
