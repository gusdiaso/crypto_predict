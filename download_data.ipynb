{
 "cells": [
  {
   "cell_type": "markdown",
   "id": "718ab59a",
   "metadata": {},
   "source": [
    "Coleta de Dados das Criptomoedas"
   ]
  },
  {
   "cell_type": "code",
   "execution_count": 3,
   "id": "126f12b1",
   "metadata": {},
   "outputs": [
    {
     "name": "stdout",
     "output_type": "stream",
     "text": [
      "YF.download() has changed argument auto_adjust default to True\n"
     ]
    },
    {
     "name": "stderr",
     "output_type": "stream",
     "text": [
      "[*********************100%***********************]  1 of 1 completed\n"
     ]
    },
    {
     "name": "stdout",
     "output_type": "stream",
     "text": [
      "Price            Close        High         Low        Open    Volume\n",
      "Ticker         BTC-USD     BTC-USD     BTC-USD     BTC-USD   BTC-USD\n",
      "Date                                                                \n",
      "2014-09-17  457.334015  468.174011  452.421997  465.864014  21056800\n",
      "2014-09-18  424.440002  456.859985  413.104004  456.859985  34483200\n",
      "2014-09-19  394.795990  427.834991  384.532013  424.102997  37919700\n",
      "2014-09-20  408.903992  423.295990  389.882996  394.673004  36863600\n",
      "2014-09-21  398.821014  412.425995  393.181000  408.084991  26580100\n"
     ]
    },
    {
     "name": "stderr",
     "output_type": "stream",
     "text": [
      "[*********************100%***********************]  1 of 1 completed\n"
     ]
    },
    {
     "name": "stdout",
     "output_type": "stream",
     "text": [
      "Price            Close        High         Low        Open      Volume\n",
      "Ticker         ETH-USD     ETH-USD     ETH-USD     ETH-USD     ETH-USD\n",
      "Date                                                                  \n",
      "2017-11-09  320.884003  329.451996  307.056000  308.644989   893249984\n",
      "2017-11-10  299.252991  324.717987  294.541992  320.670990   885985984\n",
      "2017-11-11  314.681000  319.453003  298.191986  298.585999   842300992\n",
      "2017-11-12  307.907990  319.153015  298.513000  314.690002  1613479936\n",
      "2017-11-13  316.716003  328.415009  307.024994  307.024994  1041889984\n"
     ]
    },
    {
     "name": "stderr",
     "output_type": "stream",
     "text": [
      "[*********************100%***********************]  1 of 1 completed\n"
     ]
    },
    {
     "name": "stdout",
     "output_type": "stream",
     "text": [
      "Price          Close      High       Low      Open    Volume\n",
      "Ticker       SOL-USD   SOL-USD   SOL-USD   SOL-USD   SOL-USD\n",
      "Date                                                        \n",
      "2020-04-10  0.951054  1.313487  0.694187  0.832005  87364276\n",
      "2020-04-11  0.776819  1.049073  0.765020  0.951054  43862444\n",
      "2020-04-12  0.882507  0.956670  0.762426  0.785448  38736897\n",
      "2020-04-13  0.777832  0.891603  0.773976  0.890760  18211285\n",
      "2020-04-14  0.661925  0.796472  0.628169  0.777832  16747614\n"
     ]
    },
    {
     "name": "stderr",
     "output_type": "stream",
     "text": [
      "[*********************100%***********************]  1 of 1 completed\n"
     ]
    },
    {
     "name": "stdout",
     "output_type": "stream",
     "text": [
      "Price          Close      High       Low      Open    Volume\n",
      "Ticker       ADA-USD   ADA-USD   ADA-USD   ADA-USD   ADA-USD\n",
      "Date                                                        \n",
      "2017-11-09  0.032053  0.035060  0.025006  0.025160  18716200\n",
      "2017-11-10  0.027119  0.033348  0.026451  0.032219   6766780\n",
      "2017-11-11  0.027437  0.029659  0.025684  0.026891   5532220\n",
      "2017-11-12  0.023977  0.027952  0.022591  0.027480   7280250\n",
      "2017-11-13  0.025808  0.026300  0.023495  0.024364   4419440\n"
     ]
    }
   ],
   "source": [
    "import yfinance as yf\n",
    "import time\n",
    "\n",
    "\n",
    "cryptos = ['BTC-USD', 'ETH-USD', 'SOL-USD', 'ADA-USD']\n",
    "\n",
    "try:\n",
    "    for crypto in cryptos:\n",
    "        data = yf.download(crypto, period='max', interval='1d')\n",
    "        data.to_csv(f'./data/{crypto}.csv')\n",
    "        print(data.head())\n",
    "        time.sleep(20)\n",
    "\n",
    "except Exception as err:\n",
    "    print(f\"Não foi possivel baixar os dados: {err}\")"
   ]
  }
 ],
 "metadata": {
  "kernelspec": {
   "display_name": "venv",
   "language": "python",
   "name": "python3"
  },
  "language_info": {
   "codemirror_mode": {
    "name": "ipython",
    "version": 3
   },
   "file_extension": ".py",
   "mimetype": "text/x-python",
   "name": "python",
   "nbconvert_exporter": "python",
   "pygments_lexer": "ipython3",
   "version": "3.12.3"
  }
 },
 "nbformat": 4,
 "nbformat_minor": 5
}
