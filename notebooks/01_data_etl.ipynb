{
 "cells": [
  {
   "cell_type": "markdown",
   "id": "05c212e5",
   "metadata": {},
   "source": [
    "### Extração dos dados da API do Yahoo Finance"
   ]
  },
  {
   "cell_type": "code",
   "execution_count": 1,
   "id": "1ad053cc",
   "metadata": {},
   "outputs": [
    {
     "name": "stderr",
     "output_type": "stream",
     "text": [
      "[*********************100%***********************]  1 of 1 completed\n",
      "[*********************100%***********************]  1 of 1 completed\n",
      "[*********************100%***********************]  1 of 1 completed\n"
     ]
    }
   ],
   "source": [
    "import yfinance as yf\n",
    "import time\n",
    "import pandas as pd\n",
    "\n",
    "cryptos = ['BTC-USD', 'ETH-USD', 'SOL-USD']\n",
    "\n",
    "try:\n",
    "    for crypto in cryptos:\n",
    "        data = yf.download(crypto, period='max', interval='1d', auto_adjust=True)\n",
    "        data.to_csv(f'../data/raw/{crypto}.csv')\n",
    "        if crypto != cryptos[-1]:\n",
    "            time.sleep(10)\n",
    "\n",
    "except Exception as err:\n",
    "    print(f\"Não foi possivel baixar os dados: {err}\")"
   ]
  },
  {
   "cell_type": "markdown",
   "id": "9ac68365",
   "metadata": {},
   "source": [
    "### Carregamento, Ajuste e Exportação dos Dados"
   ]
  },
  {
   "cell_type": "markdown",
   "id": "0dd4bd63",
   "metadata": {},
   "source": [
    "#### Bitcoin"
   ]
  },
  {
   "cell_type": "code",
   "execution_count": 2,
   "id": "cd49d6c5",
   "metadata": {},
   "outputs": [
    {
     "data": {
      "text/html": [
       "<div>\n",
       "<style scoped>\n",
       "    .dataframe tbody tr th:only-of-type {\n",
       "        vertical-align: middle;\n",
       "    }\n",
       "\n",
       "    .dataframe tbody tr th {\n",
       "        vertical-align: top;\n",
       "    }\n",
       "\n",
       "    .dataframe thead th {\n",
       "        text-align: right;\n",
       "    }\n",
       "</style>\n",
       "<table border=\"1\" class=\"dataframe\">\n",
       "  <thead>\n",
       "    <tr style=\"text-align: right;\">\n",
       "      <th></th>\n",
       "      <th>Price</th>\n",
       "      <th>Close</th>\n",
       "      <th>High</th>\n",
       "      <th>Low</th>\n",
       "      <th>Open</th>\n",
       "      <th>Volume</th>\n",
       "    </tr>\n",
       "  </thead>\n",
       "  <tbody>\n",
       "    <tr>\n",
       "      <th>2</th>\n",
       "      <td>2014-09-17</td>\n",
       "      <td>457.3340148925781</td>\n",
       "      <td>468.17401123046875</td>\n",
       "      <td>452.4219970703125</td>\n",
       "      <td>465.864013671875</td>\n",
       "      <td>21056800</td>\n",
       "    </tr>\n",
       "    <tr>\n",
       "      <th>3</th>\n",
       "      <td>2014-09-18</td>\n",
       "      <td>424.44000244140625</td>\n",
       "      <td>456.8599853515625</td>\n",
       "      <td>413.10400390625</td>\n",
       "      <td>456.8599853515625</td>\n",
       "      <td>34483200</td>\n",
       "    </tr>\n",
       "    <tr>\n",
       "      <th>4</th>\n",
       "      <td>2014-09-19</td>\n",
       "      <td>394.7959899902344</td>\n",
       "      <td>427.8349914550781</td>\n",
       "      <td>384.5320129394531</td>\n",
       "      <td>424.1029968261719</td>\n",
       "      <td>37919700</td>\n",
       "    </tr>\n",
       "    <tr>\n",
       "      <th>5</th>\n",
       "      <td>2014-09-20</td>\n",
       "      <td>408.90399169921875</td>\n",
       "      <td>423.2959899902344</td>\n",
       "      <td>389.88299560546875</td>\n",
       "      <td>394.6730041503906</td>\n",
       "      <td>36863600</td>\n",
       "    </tr>\n",
       "    <tr>\n",
       "      <th>6</th>\n",
       "      <td>2014-09-21</td>\n",
       "      <td>398.8210144042969</td>\n",
       "      <td>412.4259948730469</td>\n",
       "      <td>393.1809997558594</td>\n",
       "      <td>408.0849914550781</td>\n",
       "      <td>26580100</td>\n",
       "    </tr>\n",
       "  </tbody>\n",
       "</table>\n",
       "</div>"
      ],
      "text/plain": [
       "        Price               Close                High                 Low  \\\n",
       "2  2014-09-17   457.3340148925781  468.17401123046875   452.4219970703125   \n",
       "3  2014-09-18  424.44000244140625   456.8599853515625     413.10400390625   \n",
       "4  2014-09-19   394.7959899902344   427.8349914550781   384.5320129394531   \n",
       "5  2014-09-20  408.90399169921875   423.2959899902344  389.88299560546875   \n",
       "6  2014-09-21   398.8210144042969   412.4259948730469   393.1809997558594   \n",
       "\n",
       "                Open    Volume  \n",
       "2   465.864013671875  21056800  \n",
       "3  456.8599853515625  34483200  \n",
       "4  424.1029968261719  37919700  \n",
       "5  394.6730041503906  36863600  \n",
       "6  408.0849914550781  26580100  "
      ]
     },
     "execution_count": 2,
     "metadata": {},
     "output_type": "execute_result"
    }
   ],
   "source": [
    "data = pd.read_csv('../data/raw/BTC-USD.csv')\n",
    "data = data.iloc[2:,:]\n",
    "data.head(5)"
   ]
  },
  {
   "cell_type": "code",
   "execution_count": 3,
   "id": "5a6c44f6",
   "metadata": {},
   "outputs": [
    {
     "name": "stdout",
     "output_type": "stream",
     "text": [
      "<class 'pandas.core.frame.DataFrame'>\n",
      "RangeIndex: 4058 entries, 2 to 4059\n",
      "Data columns (total 6 columns):\n",
      " #   Column  Non-Null Count  Dtype \n",
      "---  ------  --------------  ----- \n",
      " 0   Price   4058 non-null   object\n",
      " 1   Close   4058 non-null   object\n",
      " 2   High    4058 non-null   object\n",
      " 3   Low     4058 non-null   object\n",
      " 4   Open    4058 non-null   object\n",
      " 5   Volume  4058 non-null   object\n",
      "dtypes: object(6)\n",
      "memory usage: 190.3+ KB\n"
     ]
    }
   ],
   "source": [
    "data.info()"
   ]
  },
  {
   "cell_type": "code",
   "execution_count": 4,
   "id": "449076ca",
   "metadata": {},
   "outputs": [
    {
     "data": {
      "text/plain": [
       "Price      object\n",
       "Close     float64\n",
       "High      float64\n",
       "Low       float64\n",
       "Open      float64\n",
       "Volume      int64\n",
       "dtype: object"
      ]
     },
     "execution_count": 4,
     "metadata": {},
     "output_type": "execute_result"
    }
   ],
   "source": [
    "cols = ['Close', 'High', 'Low', 'Open', 'Volume']\n",
    "data[cols] = data[cols].apply(pd.to_numeric, errors='coerce')\n",
    "data.dtypes"
   ]
  },
  {
   "cell_type": "markdown",
   "id": "a56ebbf8",
   "metadata": {},
   "source": [
    "Apliquei a função pd.to_numeric em cada uma dessas colunas que converte os valores pra número (float ou int)<br>\n",
    "Se algum valor não puder ser convertido (por exemplo, \"ABC\", \"?\", \"-\"), o parâmetro errors='coerce' manda ele transformar em NaN (valor nulo)"
   ]
  },
  {
   "cell_type": "code",
   "execution_count": 5,
   "id": "8a55e67c",
   "metadata": {},
   "outputs": [
    {
     "data": {
      "text/plain": [
       "Date      datetime64[ns]\n",
       "Close            float64\n",
       "High             float64\n",
       "Low              float64\n",
       "Open             float64\n",
       "Volume             int64\n",
       "dtype: object"
      ]
     },
     "execution_count": 5,
     "metadata": {},
     "output_type": "execute_result"
    }
   ],
   "source": [
    "data = data.rename(columns={'Price': 'Date'})\n",
    "data['Date'] = pd.to_datetime(data['Date'])\n",
    "data.dtypes"
   ]
  },
  {
   "cell_type": "code",
   "execution_count": 6,
   "id": "842b3d30",
   "metadata": {},
   "outputs": [
    {
     "data": {
      "text/html": [
       "<div>\n",
       "<style scoped>\n",
       "    .dataframe tbody tr th:only-of-type {\n",
       "        vertical-align: middle;\n",
       "    }\n",
       "\n",
       "    .dataframe tbody tr th {\n",
       "        vertical-align: top;\n",
       "    }\n",
       "\n",
       "    .dataframe thead th {\n",
       "        text-align: right;\n",
       "    }\n",
       "</style>\n",
       "<table border=\"1\" class=\"dataframe\">\n",
       "  <thead>\n",
       "    <tr style=\"text-align: right;\">\n",
       "      <th></th>\n",
       "      <th>Close</th>\n",
       "      <th>High</th>\n",
       "      <th>Low</th>\n",
       "      <th>Open</th>\n",
       "      <th>Volume</th>\n",
       "    </tr>\n",
       "    <tr>\n",
       "      <th>Date</th>\n",
       "      <th></th>\n",
       "      <th></th>\n",
       "      <th></th>\n",
       "      <th></th>\n",
       "      <th></th>\n",
       "    </tr>\n",
       "  </thead>\n",
       "  <tbody>\n",
       "    <tr>\n",
       "      <th>2014-09-17</th>\n",
       "      <td>457.334015</td>\n",
       "      <td>468.174011</td>\n",
       "      <td>452.421997</td>\n",
       "      <td>465.864014</td>\n",
       "      <td>21056800</td>\n",
       "    </tr>\n",
       "    <tr>\n",
       "      <th>2014-09-18</th>\n",
       "      <td>424.440002</td>\n",
       "      <td>456.859985</td>\n",
       "      <td>413.104004</td>\n",
       "      <td>456.859985</td>\n",
       "      <td>34483200</td>\n",
       "    </tr>\n",
       "    <tr>\n",
       "      <th>2014-09-19</th>\n",
       "      <td>394.795990</td>\n",
       "      <td>427.834991</td>\n",
       "      <td>384.532013</td>\n",
       "      <td>424.102997</td>\n",
       "      <td>37919700</td>\n",
       "    </tr>\n",
       "    <tr>\n",
       "      <th>2014-09-20</th>\n",
       "      <td>408.903992</td>\n",
       "      <td>423.295990</td>\n",
       "      <td>389.882996</td>\n",
       "      <td>394.673004</td>\n",
       "      <td>36863600</td>\n",
       "    </tr>\n",
       "    <tr>\n",
       "      <th>2014-09-21</th>\n",
       "      <td>398.821014</td>\n",
       "      <td>412.425995</td>\n",
       "      <td>393.181000</td>\n",
       "      <td>408.084991</td>\n",
       "      <td>26580100</td>\n",
       "    </tr>\n",
       "  </tbody>\n",
       "</table>\n",
       "</div>"
      ],
      "text/plain": [
       "                 Close        High         Low        Open    Volume\n",
       "Date                                                                \n",
       "2014-09-17  457.334015  468.174011  452.421997  465.864014  21056800\n",
       "2014-09-18  424.440002  456.859985  413.104004  456.859985  34483200\n",
       "2014-09-19  394.795990  427.834991  384.532013  424.102997  37919700\n",
       "2014-09-20  408.903992  423.295990  389.882996  394.673004  36863600\n",
       "2014-09-21  398.821014  412.425995  393.181000  408.084991  26580100"
      ]
     },
     "execution_count": 6,
     "metadata": {},
     "output_type": "execute_result"
    }
   ],
   "source": [
    "data = data.set_index('Date')\n",
    "data = data.sort_index()\n",
    "data.head(5)"
   ]
  },
  {
   "cell_type": "markdown",
   "id": "98fbbb4b",
   "metadata": {},
   "source": [
    "Agora já ajustei o nome da coluna, transformei para data, coloquei a data como indice do meu dataset e ordenei por garantia, porque vi que a ordem era importante para uma LSTM"
   ]
  },
  {
   "cell_type": "code",
   "execution_count": 7,
   "id": "81ece464",
   "metadata": {},
   "outputs": [
    {
     "data": {
      "text/plain": [
       "Close     0\n",
       "High      0\n",
       "Low       0\n",
       "Open      0\n",
       "Volume    0\n",
       "dtype: int64"
      ]
     },
     "execution_count": 7,
     "metadata": {},
     "output_type": "execute_result"
    }
   ],
   "source": [
    "data.isna().sum()"
   ]
  },
  {
   "cell_type": "code",
   "execution_count": 8,
   "id": "94dce9bb",
   "metadata": {},
   "outputs": [
    {
     "data": {
      "text/html": [
       "<div>\n",
       "<style scoped>\n",
       "    .dataframe tbody tr th:only-of-type {\n",
       "        vertical-align: middle;\n",
       "    }\n",
       "\n",
       "    .dataframe tbody tr th {\n",
       "        vertical-align: top;\n",
       "    }\n",
       "\n",
       "    .dataframe thead th {\n",
       "        text-align: right;\n",
       "    }\n",
       "</style>\n",
       "<table border=\"1\" class=\"dataframe\">\n",
       "  <thead>\n",
       "    <tr style=\"text-align: right;\">\n",
       "      <th></th>\n",
       "      <th>Close</th>\n",
       "      <th>High</th>\n",
       "      <th>Low</th>\n",
       "      <th>Open</th>\n",
       "      <th>Volume</th>\n",
       "    </tr>\n",
       "    <tr>\n",
       "      <th>Date</th>\n",
       "      <th></th>\n",
       "      <th></th>\n",
       "      <th></th>\n",
       "      <th></th>\n",
       "      <th></th>\n",
       "    </tr>\n",
       "  </thead>\n",
       "  <tbody>\n",
       "  </tbody>\n",
       "</table>\n",
       "</div>"
      ],
      "text/plain": [
       "Empty DataFrame\n",
       "Columns: [Close, High, Low, Open, Volume]\n",
       "Index: []"
      ]
     },
     "execution_count": 8,
     "metadata": {},
     "output_type": "execute_result"
    }
   ],
   "source": [
    "data[data.duplicated() == True]"
   ]
  },
  {
   "cell_type": "code",
   "execution_count": 9,
   "id": "239eefae",
   "metadata": {},
   "outputs": [
    {
     "data": {
      "text/plain": [
       "(4058, 5)"
      ]
     },
     "execution_count": 9,
     "metadata": {},
     "output_type": "execute_result"
    }
   ],
   "source": [
    "data.shape"
   ]
  },
  {
   "cell_type": "code",
   "execution_count": null,
   "id": "82599c09",
   "metadata": {},
   "outputs": [],
   "source": [
    "data.to_csv('../data/processed/BTC-USD_raw.csv', index=True)"
   ]
  },
  {
   "cell_type": "code",
   "execution_count": 11,
   "id": "d3872520",
   "metadata": {},
   "outputs": [
    {
     "data": {
      "text/html": [
       "<div>\n",
       "<style scoped>\n",
       "    .dataframe tbody tr th:only-of-type {\n",
       "        vertical-align: middle;\n",
       "    }\n",
       "\n",
       "    .dataframe tbody tr th {\n",
       "        vertical-align: top;\n",
       "    }\n",
       "\n",
       "    .dataframe thead th {\n",
       "        text-align: right;\n",
       "    }\n",
       "</style>\n",
       "<table border=\"1\" class=\"dataframe\">\n",
       "  <thead>\n",
       "    <tr style=\"text-align: right;\">\n",
       "      <th></th>\n",
       "      <th>Close</th>\n",
       "      <th>High</th>\n",
       "      <th>Low</th>\n",
       "      <th>Open</th>\n",
       "      <th>Volume</th>\n",
       "    </tr>\n",
       "    <tr>\n",
       "      <th>Date</th>\n",
       "      <th></th>\n",
       "      <th></th>\n",
       "      <th></th>\n",
       "      <th></th>\n",
       "      <th></th>\n",
       "    </tr>\n",
       "  </thead>\n",
       "  <tbody>\n",
       "    <tr>\n",
       "      <th>2014-09-17</th>\n",
       "      <td>457.334015</td>\n",
       "      <td>468.174011</td>\n",
       "      <td>452.421997</td>\n",
       "      <td>465.864014</td>\n",
       "      <td>21056800</td>\n",
       "    </tr>\n",
       "    <tr>\n",
       "      <th>2014-09-18</th>\n",
       "      <td>424.440002</td>\n",
       "      <td>456.859985</td>\n",
       "      <td>413.104004</td>\n",
       "      <td>456.859985</td>\n",
       "      <td>34483200</td>\n",
       "    </tr>\n",
       "    <tr>\n",
       "      <th>2014-09-19</th>\n",
       "      <td>394.795990</td>\n",
       "      <td>427.834991</td>\n",
       "      <td>384.532013</td>\n",
       "      <td>424.102997</td>\n",
       "      <td>37919700</td>\n",
       "    </tr>\n",
       "    <tr>\n",
       "      <th>2014-09-20</th>\n",
       "      <td>408.903992</td>\n",
       "      <td>423.295990</td>\n",
       "      <td>389.882996</td>\n",
       "      <td>394.673004</td>\n",
       "      <td>36863600</td>\n",
       "    </tr>\n",
       "    <tr>\n",
       "      <th>2014-09-21</th>\n",
       "      <td>398.821014</td>\n",
       "      <td>412.425995</td>\n",
       "      <td>393.181000</td>\n",
       "      <td>408.084991</td>\n",
       "      <td>26580100</td>\n",
       "    </tr>\n",
       "  </tbody>\n",
       "</table>\n",
       "</div>"
      ],
      "text/plain": [
       "                 Close        High         Low        Open    Volume\n",
       "Date                                                                \n",
       "2014-09-17  457.334015  468.174011  452.421997  465.864014  21056800\n",
       "2014-09-18  424.440002  456.859985  413.104004  456.859985  34483200\n",
       "2014-09-19  394.795990  427.834991  384.532013  424.102997  37919700\n",
       "2014-09-20  408.903992  423.295990  389.882996  394.673004  36863600\n",
       "2014-09-21  398.821014  412.425995  393.181000  408.084991  26580100"
      ]
     },
     "execution_count": 11,
     "metadata": {},
     "output_type": "execute_result"
    }
   ],
   "source": [
    "limite = data['Volume'].quantile(0.999)\n",
    "data = data[data['Volume'] <= limite]\n",
    "data.head(5)"
   ]
  },
  {
   "cell_type": "code",
   "execution_count": 12,
   "id": "4f3571f8",
   "metadata": {},
   "outputs": [
    {
     "data": {
      "text/plain": [
       "(4053, 5)"
      ]
     },
     "execution_count": 12,
     "metadata": {},
     "output_type": "execute_result"
    }
   ],
   "source": [
    "data.shape"
   ]
  },
  {
   "cell_type": "code",
   "execution_count": 13,
   "id": "f0fe7e61",
   "metadata": {},
   "outputs": [],
   "source": [
    "data.to_csv('../data/processed/BTC-USD_all.csv', index=True)"
   ]
  },
  {
   "cell_type": "code",
   "execution_count": 14,
   "id": "4e378e62",
   "metadata": {},
   "outputs": [
    {
     "data": {
      "text/plain": [
       "Close          0\n",
       "High           0\n",
       "Low            0\n",
       "Open           0\n",
       "Volume         0\n",
       "closeLag_1     0\n",
       "closeLag_2     0\n",
       "closeLag_3     0\n",
       "closeLag_4     0\n",
       "closeLag_5     0\n",
       "closeLag_6     0\n",
       "closeLag_7     0\n",
       "closeLag_8     0\n",
       "closeLag_9     0\n",
       "closeLag_10    0\n",
       "closeLag_11    0\n",
       "closeLag_12    0\n",
       "closeLag_13    0\n",
       "closeLag_14    0\n",
       "closeLag_15    0\n",
       "closeLag_16    0\n",
       "closeLag_17    0\n",
       "closeLag_18    0\n",
       "closeLag_19    0\n",
       "closeLag_20    0\n",
       "closeLag_21    0\n",
       "closeLag_22    0\n",
       "closeLag_23    0\n",
       "closeLag_24    0\n",
       "closeLag_25    0\n",
       "closeLag_26    0\n",
       "closeLag_27    0\n",
       "closeLag_28    0\n",
       "closeLag_29    0\n",
       "closeLag_30    0\n",
       "dtype: int64"
      ]
     },
     "execution_count": 14,
     "metadata": {},
     "output_type": "execute_result"
    }
   ],
   "source": [
    "data_lag = data.copy()\n",
    "\n",
    "n_steps = 30\n",
    "for time_step in range(1, n_steps+1):\n",
    "    data_lag['closeLag_'+str(time_step)] = data_lag['Close'].shift(time_step)\n",
    "\n",
    "data_lag = data_lag.dropna()\n",
    "data_lag.isna().sum()\n"
   ]
  },
  {
   "cell_type": "code",
   "execution_count": 15,
   "id": "fc7d1832",
   "metadata": {},
   "outputs": [
    {
     "data": {
      "text/html": [
       "<div>\n",
       "<style scoped>\n",
       "    .dataframe tbody tr th:only-of-type {\n",
       "        vertical-align: middle;\n",
       "    }\n",
       "\n",
       "    .dataframe tbody tr th {\n",
       "        vertical-align: top;\n",
       "    }\n",
       "\n",
       "    .dataframe thead th {\n",
       "        text-align: right;\n",
       "    }\n",
       "</style>\n",
       "<table border=\"1\" class=\"dataframe\">\n",
       "  <thead>\n",
       "    <tr style=\"text-align: right;\">\n",
       "      <th></th>\n",
       "      <th>Close</th>\n",
       "      <th>High</th>\n",
       "      <th>Low</th>\n",
       "      <th>Open</th>\n",
       "      <th>Volume</th>\n",
       "      <th>closeLag_1</th>\n",
       "      <th>closeLag_2</th>\n",
       "      <th>closeLag_3</th>\n",
       "      <th>closeLag_4</th>\n",
       "      <th>closeLag_5</th>\n",
       "      <th>...</th>\n",
       "      <th>closeLag_21</th>\n",
       "      <th>closeLag_22</th>\n",
       "      <th>closeLag_23</th>\n",
       "      <th>closeLag_24</th>\n",
       "      <th>closeLag_25</th>\n",
       "      <th>closeLag_26</th>\n",
       "      <th>closeLag_27</th>\n",
       "      <th>closeLag_28</th>\n",
       "      <th>closeLag_29</th>\n",
       "      <th>closeLag_30</th>\n",
       "    </tr>\n",
       "    <tr>\n",
       "      <th>Date</th>\n",
       "      <th></th>\n",
       "      <th></th>\n",
       "      <th></th>\n",
       "      <th></th>\n",
       "      <th></th>\n",
       "      <th></th>\n",
       "      <th></th>\n",
       "      <th></th>\n",
       "      <th></th>\n",
       "      <th></th>\n",
       "      <th></th>\n",
       "      <th></th>\n",
       "      <th></th>\n",
       "      <th></th>\n",
       "      <th></th>\n",
       "      <th></th>\n",
       "      <th></th>\n",
       "      <th></th>\n",
       "      <th></th>\n",
       "      <th></th>\n",
       "      <th></th>\n",
       "    </tr>\n",
       "  </thead>\n",
       "  <tbody>\n",
       "    <tr>\n",
       "      <th>2014-10-17</th>\n",
       "      <td>383.757996</td>\n",
       "      <td>385.477997</td>\n",
       "      <td>375.389008</td>\n",
       "      <td>382.756012</td>\n",
       "      <td>13600700</td>\n",
       "      <td>382.556000</td>\n",
       "      <td>394.773010</td>\n",
       "      <td>400.869995</td>\n",
       "      <td>390.414001</td>\n",
       "      <td>378.549011</td>\n",
       "      <td>...</td>\n",
       "      <td>404.424988</td>\n",
       "      <td>411.574005</td>\n",
       "      <td>423.204987</td>\n",
       "      <td>435.790985</td>\n",
       "      <td>402.152008</td>\n",
       "      <td>398.821014</td>\n",
       "      <td>408.903992</td>\n",
       "      <td>394.795990</td>\n",
       "      <td>424.440002</td>\n",
       "      <td>457.334015</td>\n",
       "    </tr>\n",
       "    <tr>\n",
       "      <th>2014-10-18</th>\n",
       "      <td>391.441986</td>\n",
       "      <td>395.157990</td>\n",
       "      <td>378.971008</td>\n",
       "      <td>383.976013</td>\n",
       "      <td>11416800</td>\n",
       "      <td>383.757996</td>\n",
       "      <td>382.556000</td>\n",
       "      <td>394.773010</td>\n",
       "      <td>400.869995</td>\n",
       "      <td>390.414001</td>\n",
       "      <td>...</td>\n",
       "      <td>399.519989</td>\n",
       "      <td>404.424988</td>\n",
       "      <td>411.574005</td>\n",
       "      <td>423.204987</td>\n",
       "      <td>435.790985</td>\n",
       "      <td>402.152008</td>\n",
       "      <td>398.821014</td>\n",
       "      <td>408.903992</td>\n",
       "      <td>394.795990</td>\n",
       "      <td>424.440002</td>\n",
       "    </tr>\n",
       "    <tr>\n",
       "      <th>2014-10-19</th>\n",
       "      <td>389.545990</td>\n",
       "      <td>393.938995</td>\n",
       "      <td>386.457001</td>\n",
       "      <td>391.253998</td>\n",
       "      <td>5914570</td>\n",
       "      <td>391.441986</td>\n",
       "      <td>383.757996</td>\n",
       "      <td>382.556000</td>\n",
       "      <td>394.773010</td>\n",
       "      <td>400.869995</td>\n",
       "      <td>...</td>\n",
       "      <td>377.181000</td>\n",
       "      <td>399.519989</td>\n",
       "      <td>404.424988</td>\n",
       "      <td>411.574005</td>\n",
       "      <td>423.204987</td>\n",
       "      <td>435.790985</td>\n",
       "      <td>402.152008</td>\n",
       "      <td>398.821014</td>\n",
       "      <td>408.903992</td>\n",
       "      <td>394.795990</td>\n",
       "    </tr>\n",
       "    <tr>\n",
       "      <th>2014-10-20</th>\n",
       "      <td>382.845001</td>\n",
       "      <td>390.084015</td>\n",
       "      <td>378.252014</td>\n",
       "      <td>389.230988</td>\n",
       "      <td>16419000</td>\n",
       "      <td>389.545990</td>\n",
       "      <td>391.441986</td>\n",
       "      <td>383.757996</td>\n",
       "      <td>382.556000</td>\n",
       "      <td>394.773010</td>\n",
       "      <td>...</td>\n",
       "      <td>375.467010</td>\n",
       "      <td>377.181000</td>\n",
       "      <td>399.519989</td>\n",
       "      <td>404.424988</td>\n",
       "      <td>411.574005</td>\n",
       "      <td>423.204987</td>\n",
       "      <td>435.790985</td>\n",
       "      <td>402.152008</td>\n",
       "      <td>398.821014</td>\n",
       "      <td>408.903992</td>\n",
       "    </tr>\n",
       "    <tr>\n",
       "      <th>2014-10-21</th>\n",
       "      <td>386.475006</td>\n",
       "      <td>392.645996</td>\n",
       "      <td>380.834015</td>\n",
       "      <td>382.420990</td>\n",
       "      <td>14188900</td>\n",
       "      <td>382.845001</td>\n",
       "      <td>389.545990</td>\n",
       "      <td>391.441986</td>\n",
       "      <td>383.757996</td>\n",
       "      <td>382.556000</td>\n",
       "      <td>...</td>\n",
       "      <td>386.944000</td>\n",
       "      <td>375.467010</td>\n",
       "      <td>377.181000</td>\n",
       "      <td>399.519989</td>\n",
       "      <td>404.424988</td>\n",
       "      <td>411.574005</td>\n",
       "      <td>423.204987</td>\n",
       "      <td>435.790985</td>\n",
       "      <td>402.152008</td>\n",
       "      <td>398.821014</td>\n",
       "    </tr>\n",
       "  </tbody>\n",
       "</table>\n",
       "<p>5 rows × 35 columns</p>\n",
       "</div>"
      ],
      "text/plain": [
       "                 Close        High         Low        Open    Volume  \\\n",
       "Date                                                                   \n",
       "2014-10-17  383.757996  385.477997  375.389008  382.756012  13600700   \n",
       "2014-10-18  391.441986  395.157990  378.971008  383.976013  11416800   \n",
       "2014-10-19  389.545990  393.938995  386.457001  391.253998   5914570   \n",
       "2014-10-20  382.845001  390.084015  378.252014  389.230988  16419000   \n",
       "2014-10-21  386.475006  392.645996  380.834015  382.420990  14188900   \n",
       "\n",
       "            closeLag_1  closeLag_2  closeLag_3  closeLag_4  closeLag_5  ...  \\\n",
       "Date                                                                    ...   \n",
       "2014-10-17  382.556000  394.773010  400.869995  390.414001  378.549011  ...   \n",
       "2014-10-18  383.757996  382.556000  394.773010  400.869995  390.414001  ...   \n",
       "2014-10-19  391.441986  383.757996  382.556000  394.773010  400.869995  ...   \n",
       "2014-10-20  389.545990  391.441986  383.757996  382.556000  394.773010  ...   \n",
       "2014-10-21  382.845001  389.545990  391.441986  383.757996  382.556000  ...   \n",
       "\n",
       "            closeLag_21  closeLag_22  closeLag_23  closeLag_24  closeLag_25  \\\n",
       "Date                                                                          \n",
       "2014-10-17   404.424988   411.574005   423.204987   435.790985   402.152008   \n",
       "2014-10-18   399.519989   404.424988   411.574005   423.204987   435.790985   \n",
       "2014-10-19   377.181000   399.519989   404.424988   411.574005   423.204987   \n",
       "2014-10-20   375.467010   377.181000   399.519989   404.424988   411.574005   \n",
       "2014-10-21   386.944000   375.467010   377.181000   399.519989   404.424988   \n",
       "\n",
       "            closeLag_26  closeLag_27  closeLag_28  closeLag_29  closeLag_30  \n",
       "Date                                                                         \n",
       "2014-10-17   398.821014   408.903992   394.795990   424.440002   457.334015  \n",
       "2014-10-18   402.152008   398.821014   408.903992   394.795990   424.440002  \n",
       "2014-10-19   435.790985   402.152008   398.821014   408.903992   394.795990  \n",
       "2014-10-20   423.204987   435.790985   402.152008   398.821014   408.903992  \n",
       "2014-10-21   411.574005   423.204987   435.790985   402.152008   398.821014  \n",
       "\n",
       "[5 rows x 35 columns]"
      ]
     },
     "execution_count": 15,
     "metadata": {},
     "output_type": "execute_result"
    }
   ],
   "source": [
    "data_lag.head(5)"
   ]
  },
  {
   "cell_type": "code",
   "execution_count": 16,
   "id": "77eefae8",
   "metadata": {},
   "outputs": [
    {
     "data": {
      "text/html": [
       "<div>\n",
       "<style scoped>\n",
       "    .dataframe tbody tr th:only-of-type {\n",
       "        vertical-align: middle;\n",
       "    }\n",
       "\n",
       "    .dataframe tbody tr th {\n",
       "        vertical-align: top;\n",
       "    }\n",
       "\n",
       "    .dataframe thead th {\n",
       "        text-align: right;\n",
       "    }\n",
       "</style>\n",
       "<table border=\"1\" class=\"dataframe\">\n",
       "  <thead>\n",
       "    <tr style=\"text-align: right;\">\n",
       "      <th></th>\n",
       "      <th>Close</th>\n",
       "      <th>High</th>\n",
       "      <th>Low</th>\n",
       "      <th>Open</th>\n",
       "      <th>Volume</th>\n",
       "    </tr>\n",
       "    <tr>\n",
       "      <th>Date</th>\n",
       "      <th></th>\n",
       "      <th></th>\n",
       "      <th></th>\n",
       "      <th></th>\n",
       "      <th></th>\n",
       "    </tr>\n",
       "  </thead>\n",
       "  <tbody>\n",
       "    <tr>\n",
       "      <th>2014-09-17</th>\n",
       "      <td>457.334015</td>\n",
       "      <td>468.174011</td>\n",
       "      <td>452.421997</td>\n",
       "      <td>465.864014</td>\n",
       "      <td>21056800</td>\n",
       "    </tr>\n",
       "    <tr>\n",
       "      <th>2014-09-18</th>\n",
       "      <td>424.440002</td>\n",
       "      <td>456.859985</td>\n",
       "      <td>413.104004</td>\n",
       "      <td>456.859985</td>\n",
       "      <td>34483200</td>\n",
       "    </tr>\n",
       "    <tr>\n",
       "      <th>2014-09-19</th>\n",
       "      <td>394.795990</td>\n",
       "      <td>427.834991</td>\n",
       "      <td>384.532013</td>\n",
       "      <td>424.102997</td>\n",
       "      <td>37919700</td>\n",
       "    </tr>\n",
       "    <tr>\n",
       "      <th>2014-09-20</th>\n",
       "      <td>408.903992</td>\n",
       "      <td>423.295990</td>\n",
       "      <td>389.882996</td>\n",
       "      <td>394.673004</td>\n",
       "      <td>36863600</td>\n",
       "    </tr>\n",
       "    <tr>\n",
       "      <th>2014-09-21</th>\n",
       "      <td>398.821014</td>\n",
       "      <td>412.425995</td>\n",
       "      <td>393.181000</td>\n",
       "      <td>408.084991</td>\n",
       "      <td>26580100</td>\n",
       "    </tr>\n",
       "  </tbody>\n",
       "</table>\n",
       "</div>"
      ],
      "text/plain": [
       "                 Close        High         Low        Open    Volume\n",
       "Date                                                                \n",
       "2014-09-17  457.334015  468.174011  452.421997  465.864014  21056800\n",
       "2014-09-18  424.440002  456.859985  413.104004  456.859985  34483200\n",
       "2014-09-19  394.795990  427.834991  384.532013  424.102997  37919700\n",
       "2014-09-20  408.903992  423.295990  389.882996  394.673004  36863600\n",
       "2014-09-21  398.821014  412.425995  393.181000  408.084991  26580100"
      ]
     },
     "execution_count": 16,
     "metadata": {},
     "output_type": "execute_result"
    }
   ],
   "source": [
    "data.head(5)"
   ]
  },
  {
   "cell_type": "code",
   "execution_count": 17,
   "id": "a78519ad",
   "metadata": {},
   "outputs": [
    {
     "data": {
      "text/plain": [
       "(4023, 35)"
      ]
     },
     "execution_count": 17,
     "metadata": {},
     "output_type": "execute_result"
    }
   ],
   "source": [
    "data_lag.shape"
   ]
  },
  {
   "cell_type": "code",
   "execution_count": 18,
   "id": "68aac40d",
   "metadata": {},
   "outputs": [],
   "source": [
    "data_lag.to_csv('../data/processed/BTC-USD_lag_all.csv', index=True)"
   ]
  },
  {
   "cell_type": "code",
   "execution_count": 19,
   "id": "d6c5a25e",
   "metadata": {},
   "outputs": [],
   "source": [
    "data = data.loc['2017-01-01':]\n",
    "data_lag = data_lag.loc['2017-01-01':]"
   ]
  },
  {
   "cell_type": "code",
   "execution_count": 20,
   "id": "7413f13c",
   "metadata": {},
   "outputs": [
    {
     "data": {
      "text/plain": [
       "(3216, 5)"
      ]
     },
     "execution_count": 20,
     "metadata": {},
     "output_type": "execute_result"
    }
   ],
   "source": [
    "data.shape"
   ]
  },
  {
   "cell_type": "code",
   "execution_count": 21,
   "id": "192d66d3",
   "metadata": {},
   "outputs": [
    {
     "data": {
      "text/plain": [
       "(3216, 35)"
      ]
     },
     "execution_count": 21,
     "metadata": {},
     "output_type": "execute_result"
    }
   ],
   "source": [
    "data_lag.shape"
   ]
  },
  {
   "cell_type": "code",
   "execution_count": 22,
   "id": "a5287e0b",
   "metadata": {},
   "outputs": [],
   "source": [
    "data.to_csv('../data/processed/BTC-USD_cropped.csv', index=True)\n",
    "data_lag.to_csv('../data/processed/BTC-USD_lag_cropped.csv', index=True)"
   ]
  }
 ],
 "metadata": {
  "kernelspec": {
   "display_name": "venv",
   "language": "python",
   "name": "python3"
  },
  "language_info": {
   "codemirror_mode": {
    "name": "ipython",
    "version": 3
   },
   "file_extension": ".py",
   "mimetype": "text/x-python",
   "name": "python",
   "nbconvert_exporter": "python",
   "pygments_lexer": "ipython3",
   "version": "3.12.3"
  }
 },
 "nbformat": 4,
 "nbformat_minor": 5
}
