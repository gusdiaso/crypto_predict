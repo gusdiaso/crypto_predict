{
 "cells": [
  {
   "cell_type": "code",
   "execution_count": 2,
   "id": "cc110470",
   "metadata": {},
   "outputs": [
    {
     "name": "stdout",
     "output_type": "stream",
     "text": [
      "                                   Open          High           Low  \\\n",
      "Date                                                                  \n",
      "2025-04-28 00:00:00+00:00  93784.046875  95520.726562  92922.054688   \n",
      "\n",
      "                                  Close       Volume  Dividends  Stock Splits  \n",
      "Date                                                                           \n",
      "2025-04-28 00:00:00+00:00  93877.765625  31048826880        0.0           0.0  \n"
     ]
    }
   ],
   "source": [
    "import yfinance as yf\n",
    "\n",
    "# Pega dados do Bitcoin\n",
    "btc = yf.Ticker(\"BTC-USD\")\n",
    "eth = yf.Ticker(\"ETH-USD\")\n",
    "\n",
    "\n",
    "# Mostra o histórico de preços dos últimos 5 dias\n",
    "print(btc.history(period=\"1d\"))"
   ]
  },
  {
   "cell_type": "code",
   "execution_count": 3,
   "id": "6718f48f",
   "metadata": {},
   "outputs": [
    {
     "name": "stdout",
     "output_type": "stream",
     "text": [
      "                                  Open         High          Low        Close  \\\n",
      "Date                                                                            \n",
      "2025-04-28 00:00:00+00:00  1791.991821  1824.124634  1750.512695  1768.410156   \n",
      "\n",
      "                                Volume  Dividends  Stock Splits  \n",
      "Date                                                             \n",
      "2025-04-28 00:00:00+00:00  15243578368        0.0           0.0  \n"
     ]
    }
   ],
   "source": [
    "print(eth.history(period=\"1d\"))\n"
   ]
  }
 ],
 "metadata": {
  "kernelspec": {
   "display_name": "Python 3",
   "language": "python",
   "name": "python3"
  },
  "language_info": {
   "codemirror_mode": {
    "name": "ipython",
    "version": 3
   },
   "file_extension": ".py",
   "mimetype": "text/x-python",
   "name": "python",
   "nbconvert_exporter": "python",
   "pygments_lexer": "ipython3",
   "version": "3.13.1"
  }
 },
 "nbformat": 4,
 "nbformat_minor": 5
}
