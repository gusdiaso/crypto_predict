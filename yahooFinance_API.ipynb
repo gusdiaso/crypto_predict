{
 "cells": [
  {
   "cell_type": "code",
   "execution_count": 3,
   "id": "cc110470",
   "metadata": {},
   "outputs": [
    {
     "name": "stdout",
     "output_type": "stream",
     "text": [
      "                                   Open          High           Low  \\\n",
      "Date                                                                  \n",
      "2025-04-24 00:00:00+00:00  93692.398438  94016.195312  91696.710938   \n",
      "2025-04-25 00:00:00+00:00  93954.250000  95768.390625  92898.593750   \n",
      "2025-04-26 00:00:00+00:00  94714.648438  95251.359375  93927.250000   \n",
      "2025-04-27 00:00:00+00:00  94660.906250  95301.203125  93665.398438   \n",
      "2025-04-28 00:00:00+00:00  93784.046875  95520.726562  92922.054688   \n",
      "\n",
      "                                  Close       Volume  Dividends  Stock Splits  \n",
      "Date                                                                           \n",
      "2025-04-24 00:00:00+00:00  93943.796875  31483175315        0.0           0.0  \n",
      "2025-04-25 00:00:00+00:00  94720.500000  40915232364        0.0           0.0  \n",
      "2025-04-26 00:00:00+00:00  94646.929688  17612825123        0.0           0.0  \n",
      "2025-04-27 00:00:00+00:00  93754.843750  18090367764        0.0           0.0  \n",
      "2025-04-28 00:00:00+00:00  94037.742188  30839060480        0.0           0.0  \n"
     ]
    }
   ],
   "source": [
    "import yfinance as yf\n",
    "\n",
    "# Pega dados do Bitcoin\n",
    "btc = yf.Ticker(\"BTC-USD\")\n",
    "\n",
    "# Mostra o histórico de preços dos últimos 5 dias\n",
    "print(btc.history(period=\"5d\"))"
   ]
  }
 ],
 "metadata": {
  "kernelspec": {
   "display_name": "Python 3",
   "language": "python",
   "name": "python3"
  },
  "language_info": {
   "codemirror_mode": {
    "name": "ipython",
    "version": 3
   },
   "file_extension": ".py",
   "mimetype": "text/x-python",
   "name": "python",
   "nbconvert_exporter": "python",
   "pygments_lexer": "ipython3",
   "version": "3.13.1"
  }
 },
 "nbformat": 4,
 "nbformat_minor": 5
}
