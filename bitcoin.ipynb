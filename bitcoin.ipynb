{
 "cells": [
  {
   "cell_type": "markdown",
   "id": "90b8b0c5",
   "metadata": {},
   "source": [
    "#### Importação das bibliotecas"
   ]
  },
  {
   "cell_type": "code",
   "execution_count": null,
   "id": "3fd8a96c",
   "metadata": {},
   "outputs": [],
   "source": [
    "import pandas as pd\n",
    "import numpy as np\n",
    "\n",
    "import matplotlib.pyplot as plt\n",
    "import seaborn as sns\n",
    "\n",
    "from sklearn.model_selection import TimeSeriesSplit, GridSearchCV\n",
    "from sklearn.preprocessing import MinMaxScaler\n",
    "from sklearn.metrics import mean_squared_error, mean_absolute_error, r2_score, make_scorer\n",
    "\n",
    "from scikeras.wrappers import KerasRegressor\n",
    "\n",
    "from keras.models import Sequential\n",
    "from keras.layers import Input, LSTM, Dropout, Dense\n",
    "from keras.callbacks import EarlyStopping\n"
   ]
  },
  {
   "cell_type": "markdown",
   "id": "c89826c8",
   "metadata": {},
   "source": [
    "#### Carregamento e ajuste dos dados"
   ]
  },
  {
   "cell_type": "code",
   "execution_count": null,
   "id": "6ae98936",
   "metadata": {},
   "outputs": [],
   "source": [
    "data = pd.read_csv('./data/BTC-USD.csv')\n",
    "data = data.iloc[2:,:]\n",
    "data.head(10)"
   ]
  },
  {
   "cell_type": "code",
   "execution_count": null,
   "id": "13f10ffc",
   "metadata": {},
   "outputs": [],
   "source": [
    "data.info()"
   ]
  },
  {
   "cell_type": "markdown",
   "id": "8c61861d",
   "metadata": {},
   "source": [
    "Aqui notamos que estao todas as colunas com o tipo incorreto, vamos ajustar cada uma delas"
   ]
  },
  {
   "cell_type": "code",
   "execution_count": null,
   "id": "55b8937d",
   "metadata": {},
   "outputs": [],
   "source": [
    "cols = ['Close', 'High', 'Low', 'Open', 'Volume']\n",
    "data[cols] = data[cols].apply(pd.to_numeric, errors='coerce')\n",
    "data.dtypes"
   ]
  },
  {
   "cell_type": "markdown",
   "id": "2c18989d",
   "metadata": {},
   "source": [
    "Apliquei a função pd.to_numeric em cada uma dessas colunas que converte os valores pra número (float ou int)<br>\n",
    "Se algum valor não puder ser convertido (por exemplo, \"ABC\", \"?\", \"-\"), o parâmetro errors='coerce' manda ele transformar em NaN (valor nulo)"
   ]
  },
  {
   "cell_type": "markdown",
   "id": "552367c9",
   "metadata": {},
   "source": [
    "agora so falta colocar a coluna de data, para o tipo data"
   ]
  },
  {
   "cell_type": "code",
   "execution_count": null,
   "id": "7804f5cf",
   "metadata": {},
   "outputs": [],
   "source": [
    "data = data.rename(columns={'Price': 'Date'})\n",
    "data['Date'] = pd.to_datetime(data['Date'])\n",
    "data.dtypes"
   ]
  },
  {
   "cell_type": "code",
   "execution_count": null,
   "id": "950acf94",
   "metadata": {},
   "outputs": [],
   "source": [
    "data = data.set_index('Date')\n",
    "data = data.sort_index()\n",
    "data.head(15)\n"
   ]
  },
  {
   "cell_type": "markdown",
   "id": "35514910",
   "metadata": {},
   "source": [
    "Agora já ajustei o nome da coluna, transformei para data, coloquei a data como indice do meu dataset e ordenei por garantia, porque vi que a ordem era importante para uma LSTM"
   ]
  },
  {
   "cell_type": "code",
   "execution_count": null,
   "id": "1a719cb4",
   "metadata": {},
   "outputs": [],
   "source": [
    "data.isna().sum()"
   ]
  },
  {
   "cell_type": "code",
   "execution_count": null,
   "id": "fd510d56",
   "metadata": {},
   "outputs": [],
   "source": [
    "data[data.duplicated() == True]"
   ]
  },
  {
   "cell_type": "markdown",
   "id": "f3bd3f2c",
   "metadata": {},
   "source": [
    "#### Explorando um pouco os dados"
   ]
  },
  {
   "cell_type": "code",
   "execution_count": null,
   "id": "526c60f5",
   "metadata": {},
   "outputs": [],
   "source": [
    "data.describe().transpose()"
   ]
  },
  {
   "cell_type": "code",
   "execution_count": null,
   "id": "dd9f54cb",
   "metadata": {},
   "outputs": [],
   "source": [
    "data.median().to_frame(name='median')"
   ]
  },
  {
   "cell_type": "code",
   "execution_count": null,
   "id": "4c005fc6",
   "metadata": {},
   "outputs": [],
   "source": [
    "data.var().to_frame(name='var')"
   ]
  },
  {
   "cell_type": "code",
   "execution_count": null,
   "id": "869c2636",
   "metadata": {},
   "outputs": [],
   "source": [
    "plt.Figure()\n",
    "sns.heatmap(data.corr(), annot=True, cmap=\"YlGn\", fmt=\".2f\")\n",
    "plt.show()"
   ]
  },
  {
   "cell_type": "code",
   "execution_count": null,
   "id": "e77ca1bd",
   "metadata": {},
   "outputs": [],
   "source": [
    "plt.figure(figsize=(12,6))\n",
    "plt.plot(data.index, data['Close'], label='Close', color='green')\n",
    "plt.plot(data.index, data['Open'], label='Open', color='blue')\n",
    "plt.plot(data.index, data['High'], label='High', color='orange')\n",
    "plt.plot(data.index, data['Low'], label='Low', color='red')\n",
    "plt.plot(data.index, data['Volume'], label='Volume', color='purple')\n",
    "\n",
    "plt.title('Atributos ao longo do tempo')\n",
    "plt.xlabel('Data')\n",
    "plt.ylabel('Valores')\n",
    "plt.legend()\n",
    "plt.show()"
   ]
  },
  {
   "cell_type": "markdown",
   "id": "b2253f75",
   "metadata": {},
   "source": [
    "Aqui nao conseguimos visualizar bem porque o valor do volume é bem superior aos demais, para melhor visualização vou normalizar os dados"
   ]
  },
  {
   "cell_type": "code",
   "execution_count": null,
   "id": "a824a24c",
   "metadata": {},
   "outputs": [],
   "source": [
    "scaler = MinMaxScaler(feature_range=(0,1))\n",
    "scaled_data = scaler.fit_transform(data)\n",
    "data_scaled = pd.DataFrame(scaled_data, columns=data.columns, index=data.index)"
   ]
  },
  {
   "cell_type": "code",
   "execution_count": null,
   "id": "737dbee1",
   "metadata": {},
   "outputs": [],
   "source": [
    "plt.figure(figsize=(20,8))\n",
    "\n",
    "plt.plot(data_scaled.index, data_scaled['Close'], label='Close', color='green')\n",
    "plt.plot(data_scaled.index, data_scaled['Open'], label='Open', color='blue')\n",
    "plt.plot(data_scaled.index, data_scaled['High'], label='High', color='orange')\n",
    "plt.plot(data_scaled.index, data_scaled['Low'], label='Low', color='red')\n",
    "plt.plot(data_scaled.index, data_scaled['Volume'], label='Volume', color='purple')\n",
    "\n",
    "plt.title('Atributos ao longo do tempo')\n",
    "plt.xlabel('Data')\n",
    "plt.ylabel('Valores')\n",
    "plt.legend()\n",
    "plt.show()"
   ]
  },
  {
   "cell_type": "markdown",
   "id": "f91ebb7e",
   "metadata": {},
   "source": [
    "podemos notar que close, open, high e low possuem praticamente a mesma tendencia como acusado pela matriz de correlação, já o volume tem o comportamento diferente, com picos e quedas meio bruscas"
   ]
  },
  {
   "cell_type": "markdown",
   "id": "ac0b2556",
   "metadata": {},
   "source": [
    "#### Aplicação de Modelo para predição"
   ]
  },
  {
   "cell_type": "markdown",
   "id": "6cd79083",
   "metadata": {},
   "source": [
    "##### OBJETIVOS\n",
    "\n",
    "- [ ] Comparar com outros métodos"
   ]
  },
  {
   "cell_type": "markdown",
   "id": "0d229267",
   "metadata": {},
   "source": [
    "##### Univariado"
   ]
  },
  {
   "cell_type": "code",
   "execution_count": null,
   "id": "32615208",
   "metadata": {},
   "outputs": [],
   "source": [
    "# def create_sequences(data=[], seq_len=7):\n",
    "#     X, y = [], []\n",
    "#     for i in range(len(data) - seq_len):\n",
    "#         X.append(data[i:i+seq_len])\n",
    "#         y.append(data[i+seq_len])\n",
    "#     return np.array(X), np.array(y)\n"
   ]
  },
  {
   "cell_type": "code",
   "execution_count": null,
   "id": "0f33a981",
   "metadata": {},
   "outputs": [],
   "source": [
    "# serie = data['Close']\n",
    "\n",
    "# train_size = int(0.7 * len(serie))\n",
    "\n",
    "# train_data = serie[:train_size].values.reshape(-1, 1)\n",
    "# test_data = serie[train_size:].values.reshape(-1, 1)\n",
    "\n",
    "# # print(test_data)\n",
    "\n",
    "# scaler = MinMaxScaler(feature_range=(0,1))\n",
    "# data_train_scaled = scaler.fit_transform(train_data)\n",
    "# data_test_scaled = scaler.transform(test_data)\n"
   ]
  },
  {
   "cell_type": "code",
   "execution_count": null,
   "id": "0c805096",
   "metadata": {},
   "outputs": [],
   "source": [
    "# SEQ_LEN = 14\n",
    "\n",
    "# X_train_scaled, y_train_scaled = create_sequences(data_train_scaled, SEQ_LEN)\n",
    "# X_test_scaled, y_test_scaled = create_sequences(data_test_scaled, SEQ_LEN)"
   ]
  },
  {
   "cell_type": "code",
   "execution_count": null,
   "id": "82f69caf",
   "metadata": {},
   "outputs": [],
   "source": [
    "\n",
    "# model = Sequential([\n",
    "#     LSTM(100, input_shape=(SEQ_LEN, 1), return_sequences=True),\n",
    "#     Dropout(0.2),\n",
    "#     LSTM(50, return_sequences=False),\n",
    "#     Dropout(0.2),\n",
    "#     Dense(1)\n",
    "# ])\n",
    "\n",
    "# es = EarlyStopping(monitor='val_loss', patience=10, restore_best_weights=True)\n",
    "\n",
    "# history = model.fit(\n",
    "#     X_train_scaled, y_train_scaled,\n",
    "#     epochs=100,\n",
    "#     batch_size=32,\n",
    "#     validation_split=0.1,\n",
    "#     callbacks=[es],\n",
    "#     shuffle=False\n",
    "# )"
   ]
  },
  {
   "cell_type": "code",
   "execution_count": null,
   "id": "73772e17",
   "metadata": {},
   "outputs": [],
   "source": [
    "# plt.figure(figsize=(12,4))\n",
    "# plt.plot(history.history['loss'], label=\"Training Loss\", color='blue') \n",
    "# plt.plot(history.history['val_loss'], label=\"Validation Loss\", color='purple')\n",
    "# plt.legend()\n",
    "# plt.show()"
   ]
  },
  {
   "cell_type": "code",
   "execution_count": null,
   "id": "a1a4dc34",
   "metadata": {},
   "outputs": [],
   "source": [
    "# y_pred_scaled = model.predict(X_test_scaled)\n",
    "# y_pred = scaler.inverse_transform(y_pred_scaled)\n",
    "# y_test = scaler.inverse_transform(y_test_scaled)\n",
    "\n",
    "# print(y_test)\n"
   ]
  },
  {
   "cell_type": "markdown",
   "id": "c8387fc8",
   "metadata": {},
   "source": [
    "##### Multivariado"
   ]
  },
  {
   "cell_type": "code",
   "execution_count": null,
   "id": "2efdd69a",
   "metadata": {},
   "outputs": [],
   "source": [
    "def create_sequences(X, y, seq_len=14):\n",
    "    Xs, ys = [], []\n",
    "    for i in range(len(X) - seq_len):\n",
    "        Xs.append(X[i:i+seq_len])   \n",
    "        ys.append(y[i+seq_len])    \n",
    "    return np.array(Xs), np.array(ys)\n",
    "\n",
    "\n",
    "X = data[['High', 'Low', 'Open', 'Volume']]\n",
    "y = data[['Close']]\n",
    "\n",
    "scaler_X = MinMaxScaler(feature_range=(0,1))\n",
    "scaler_y = MinMaxScaler(feature_range=(0,1))\n",
    "\n",
    "X_scaled = scaler_X.fit_transform(X)\n",
    "y_scaled = scaler_y.fit_transform(y)\n"
   ]
  },
  {
   "cell_type": "code",
   "execution_count": null,
   "id": "8e41146f",
   "metadata": {},
   "outputs": [],
   "source": [
    "def create_lstm_model(seq_len=14, n_features=4, neurons=100, drop=0.2, optimizer='Adam'):\n",
    "  model = Sequential([\n",
    "      Input(shape=(seq_len, n_features)),\n",
    "      LSTM(neurons, return_sequences=True),\n",
    "      Dropout(drop),\n",
    "      LSTM((neurons//2), return_sequences=False),\n",
    "      Dropout(drop),\n",
    "      Dense(1),\n",
    "  ])\n",
    "  model.compile(optimizer=optimizer, loss='mse', metrics=['mae'])\n",
    "  return model\n",
    "\n",
    "seq_len_options = [7, 14, 30]\n",
    "split_options = [3, 5, 10]\n",
    "models = []\n",
    "\n",
    "for seq_len in seq_len_options:\n",
    "\n",
    "  print(f\"===== JANELA DE {seq_len} =====\")\n",
    "\n",
    "  X_seq, y_seq = create_sequences(X_scaled, y_scaled, seq_len)\n",
    "\n",
    "  train_size = int(0.8 * len(X_seq))\n",
    "\n",
    "  X_train_scaled, X_test_scaled = X_seq[:train_size], X_seq[train_size:]\n",
    "  y_train_scaled, y_test_scaled = y_seq[:train_size], y_seq[train_size:]\n",
    "\n",
    "  for split in split_options:\n",
    "    print(f\"_____ SPLIT DE {split} _____\")\n",
    "\n",
    "    model = KerasRegressor(model=create_lstm_model, verbose=0, seq_len=seq_len, n_features=X_train_scaled.shape[2])\n",
    "\n",
    "    param_grid = {\n",
    "                    'model__neurons': [32, 64, 96],\n",
    "                    'model__drop': [0.05, 0.1, 0.2],\n",
    "                    'batch_size': [16, 32],   \n",
    "                    'epochs': [30, 50],\n",
    "                    'model__optimizer': ['Adam'], \n",
    "                  }\n",
    "\n",
    "    tscv = TimeSeriesSplit(n_splits=split)\n",
    "\n",
    "    grid = GridSearchCV(estimator=model, param_grid=param_grid, cv=tscv, refit=True, scoring=\"neg_root_mean_squared_error\", n_jobs = -1, error_score='raise')\n",
    "\n",
    "    early_stopping = EarlyStopping(monitor='val_mae', patience=10, restore_best_weights=True)\n",
    "\n",
    "    grid_result = grid.fit(X_train_scaled, y_train_scaled, callbacks=[early_stopping], validation_split=0.2)\n",
    "\n",
    "    models.append({\n",
    "      \"model\": grid_result.best_estimator_,\n",
    "      \"rmse\": -grid_result.best_score_,\n",
    "      \"n_splits\": split,\n",
    "      \"seq_len\": seq_len,\n",
    "      \"params\": grid_result.best_params_\n",
    "    })\n",
    "\n",
    "    print(f\"Menor RMSE: {-grid_result.best_score_:.3f} usando: {grid_result.best_params_}\")"
   ]
  },
  {
   "cell_type": "code",
   "execution_count": null,
   "id": "a967a6e0",
   "metadata": {},
   "outputs": [],
   "source": [
    "best_model_entry = min(models, key=lambda x: x[\"rmse\"])\n",
    "best_model = best_model_entry[\"model\"]\n",
    "best_model"
   ]
  },
  {
   "cell_type": "code",
   "execution_count": null,
   "id": "4f4dbf6b",
   "metadata": {},
   "outputs": [],
   "source": [
    "y_pred_scaled = grid_result.best_estimator_.predict(X_test_scaled)\n",
    "y_pred = scaler_y.inverse_transform(y_pred_scaled)\n",
    "y_test = scaler_y.inverse_transform(y_test_scaled)\n"
   ]
  },
  {
   "cell_type": "code",
   "execution_count": null,
   "id": "11be1506",
   "metadata": {},
   "outputs": [],
   "source": [
    "# Métricas\n",
    "rmse = np.sqrt(mean_squared_error(y_test, y_pred))\n",
    "mae = mean_absolute_error(y_test, y_pred)\n",
    "print(f\"MAE: {mae}\")\n",
    "print(f\"RMSE: {rmse}\")\n",
    "\n",
    "mae_percent = (mae / len(y_test)) * 100\n",
    "rmse_percent = (rmse / len(y_test)) * 100\n",
    "mape = np.mean(np.abs((y_test - y_pred) / y_test)) * 100\n",
    "print(f\"MAE(%): {mae_percent:.2f}%\")\n",
    "print(f\"RMSE(%): {rmse_percent:.2f}%\")\n",
    "print(f\"MAPE(%): {mape:.2f}%\")"
   ]
  },
  {
   "cell_type": "markdown",
   "id": "3fa3b3a9",
   "metadata": {},
   "source": [
    "Metodo Univariado [\"Close\"]\n",
    "\n",
    "MAE: 1823.2193996762269\n",
    "RMSE: 2849.412183517845\n",
    "MAE(%): 3.34%\n",
    "RMSE(%): 5.23%\n",
    "MAPE(%): 2.91%"
   ]
  },
  {
   "cell_type": "code",
   "execution_count": null,
   "id": "65e2545a",
   "metadata": {},
   "outputs": [],
   "source": [
    "r2 = r2_score(y_test, y_pred)\n",
    "print(f\"R²: {r2:.2f}\")\n"
   ]
  },
  {
   "cell_type": "code",
   "execution_count": null,
   "id": "2363a921",
   "metadata": {},
   "outputs": [],
   "source": [
    "y_pred_plot = np.empty_like(data['Close'])\n",
    "y_pred_plot[:] = np.nan\n",
    "y_pred_plot[-len(y_pred):] = y_pred.reshape(-1)\n",
    "\n",
    "plt.figure(figsize=(20,8))\n",
    "plt.plot(data.index, y_pred_plot, color=\"red\", marker=\",\", label='Predicted Close')\n",
    "plt.plot(data.index, np.array(data['Close']), color=\"black\", marker=\",\", label='Total True Close')\n",
    "plt.title('Close: total real vs predito')\n",
    "plt.legend()\n",
    "plt.show()"
   ]
  },
  {
   "cell_type": "code",
   "execution_count": null,
   "id": "dd803332",
   "metadata": {},
   "outputs": [],
   "source": [
    "dias_analise=30\n",
    "\n",
    "plt.figure(figsize=(20,8))\n",
    "plt.plot(data.index[:dias_analise], y_pred[:dias_analise], color=\"red\", marker=\",\", label='Predicted Close')\n",
    "plt.plot(data.index[:dias_analise], y_test[:dias_analise], color=\"black\", marker=\",\", label='True Close')\n",
    "plt.title('Close: real vs predito')\n",
    "plt.legend()\n",
    "plt.grid(True, linestyle=\"--\")\n",
    "plt.show()"
   ]
  }
 ],
 "metadata": {
  "kernelspec": {
   "display_name": "venv",
   "language": "python",
   "name": "python3"
  },
  "language_info": {
   "codemirror_mode": {
    "name": "ipython",
    "version": 3
   },
   "file_extension": ".py",
   "mimetype": "text/x-python",
   "name": "python",
   "nbconvert_exporter": "python",
   "pygments_lexer": "ipython3",
   "version": "3.12.3"
  }
 },
 "nbformat": 4,
 "nbformat_minor": 5
}
