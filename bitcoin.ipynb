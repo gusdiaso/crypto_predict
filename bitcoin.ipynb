{
 "cells": [
  {
   "cell_type": "markdown",
   "id": "40e0fad7",
   "metadata": {},
   "source": [
    "#### Pegando os dados e analisando"
   ]
  },
  {
   "cell_type": "code",
   "execution_count": 57,
   "id": "6ae98936",
   "metadata": {},
   "outputs": [
    {
     "data": {
      "text/html": [
       "<div>\n",
       "<style scoped>\n",
       "    .dataframe tbody tr th:only-of-type {\n",
       "        vertical-align: middle;\n",
       "    }\n",
       "\n",
       "    .dataframe tbody tr th {\n",
       "        vertical-align: top;\n",
       "    }\n",
       "\n",
       "    .dataframe thead th {\n",
       "        text-align: right;\n",
       "    }\n",
       "</style>\n",
       "<table border=\"1\" class=\"dataframe\">\n",
       "  <thead>\n",
       "    <tr style=\"text-align: right;\">\n",
       "      <th></th>\n",
       "      <th>Price</th>\n",
       "      <th>Close</th>\n",
       "      <th>High</th>\n",
       "      <th>Low</th>\n",
       "      <th>Open</th>\n",
       "      <th>Volume</th>\n",
       "    </tr>\n",
       "  </thead>\n",
       "  <tbody>\n",
       "    <tr>\n",
       "      <th>2</th>\n",
       "      <td>2014-09-17</td>\n",
       "      <td>457.3340148925781</td>\n",
       "      <td>468.17401123046875</td>\n",
       "      <td>452.4219970703125</td>\n",
       "      <td>465.864013671875</td>\n",
       "      <td>21056800</td>\n",
       "    </tr>\n",
       "    <tr>\n",
       "      <th>3</th>\n",
       "      <td>2014-09-18</td>\n",
       "      <td>424.44000244140625</td>\n",
       "      <td>456.8599853515625</td>\n",
       "      <td>413.10400390625</td>\n",
       "      <td>456.8599853515625</td>\n",
       "      <td>34483200</td>\n",
       "    </tr>\n",
       "    <tr>\n",
       "      <th>4</th>\n",
       "      <td>2014-09-19</td>\n",
       "      <td>394.7959899902344</td>\n",
       "      <td>427.8349914550781</td>\n",
       "      <td>384.5320129394531</td>\n",
       "      <td>424.1029968261719</td>\n",
       "      <td>37919700</td>\n",
       "    </tr>\n",
       "    <tr>\n",
       "      <th>5</th>\n",
       "      <td>2014-09-20</td>\n",
       "      <td>408.90399169921875</td>\n",
       "      <td>423.2959899902344</td>\n",
       "      <td>389.88299560546875</td>\n",
       "      <td>394.6730041503906</td>\n",
       "      <td>36863600</td>\n",
       "    </tr>\n",
       "    <tr>\n",
       "      <th>6</th>\n",
       "      <td>2014-09-21</td>\n",
       "      <td>398.8210144042969</td>\n",
       "      <td>412.4259948730469</td>\n",
       "      <td>393.1809997558594</td>\n",
       "      <td>408.0849914550781</td>\n",
       "      <td>26580100</td>\n",
       "    </tr>\n",
       "    <tr>\n",
       "      <th>...</th>\n",
       "      <td>...</td>\n",
       "      <td>...</td>\n",
       "      <td>...</td>\n",
       "      <td>...</td>\n",
       "      <td>...</td>\n",
       "      <td>...</td>\n",
       "    </tr>\n",
       "    <tr>\n",
       "      <th>3908</th>\n",
       "      <td>2025-05-28</td>\n",
       "      <td>107802.328125</td>\n",
       "      <td>109298.2890625</td>\n",
       "      <td>106812.9296875</td>\n",
       "      <td>108992.171875</td>\n",
       "      <td>49155377493</td>\n",
       "    </tr>\n",
       "    <tr>\n",
       "      <th>3909</th>\n",
       "      <td>2025-05-29</td>\n",
       "      <td>105641.7578125</td>\n",
       "      <td>108910.046875</td>\n",
       "      <td>105374.3984375</td>\n",
       "      <td>107795.5703125</td>\n",
       "      <td>56022752042</td>\n",
       "    </tr>\n",
       "    <tr>\n",
       "      <th>3910</th>\n",
       "      <td>2025-05-30</td>\n",
       "      <td>103998.5703125</td>\n",
       "      <td>106308.9453125</td>\n",
       "      <td>103685.7890625</td>\n",
       "      <td>105646.2109375</td>\n",
       "      <td>57655287183</td>\n",
       "    </tr>\n",
       "    <tr>\n",
       "      <th>3911</th>\n",
       "      <td>2025-05-31</td>\n",
       "      <td>104638.09375</td>\n",
       "      <td>104927.1015625</td>\n",
       "      <td>103136.1171875</td>\n",
       "      <td>103994.71875</td>\n",
       "      <td>38997843858</td>\n",
       "    </tr>\n",
       "    <tr>\n",
       "      <th>3912</th>\n",
       "      <td>2025-06-01</td>\n",
       "      <td>104592.8828125</td>\n",
       "      <td>105274.46875</td>\n",
       "      <td>103842.2890625</td>\n",
       "      <td>104644.9375</td>\n",
       "      <td>35620880384</td>\n",
       "    </tr>\n",
       "  </tbody>\n",
       "</table>\n",
       "<p>3911 rows × 6 columns</p>\n",
       "</div>"
      ],
      "text/plain": [
       "           Price               Close                High                 Low  \\\n",
       "2     2014-09-17   457.3340148925781  468.17401123046875   452.4219970703125   \n",
       "3     2014-09-18  424.44000244140625   456.8599853515625     413.10400390625   \n",
       "4     2014-09-19   394.7959899902344   427.8349914550781   384.5320129394531   \n",
       "5     2014-09-20  408.90399169921875   423.2959899902344  389.88299560546875   \n",
       "6     2014-09-21   398.8210144042969   412.4259948730469   393.1809997558594   \n",
       "...          ...                 ...                 ...                 ...   \n",
       "3908  2025-05-28       107802.328125      109298.2890625      106812.9296875   \n",
       "3909  2025-05-29      105641.7578125       108910.046875      105374.3984375   \n",
       "3910  2025-05-30      103998.5703125      106308.9453125      103685.7890625   \n",
       "3911  2025-05-31        104638.09375      104927.1015625      103136.1171875   \n",
       "3912  2025-06-01      104592.8828125        105274.46875      103842.2890625   \n",
       "\n",
       "                   Open       Volume  \n",
       "2      465.864013671875     21056800  \n",
       "3     456.8599853515625     34483200  \n",
       "4     424.1029968261719     37919700  \n",
       "5     394.6730041503906     36863600  \n",
       "6     408.0849914550781     26580100  \n",
       "...                 ...          ...  \n",
       "3908      108992.171875  49155377493  \n",
       "3909     107795.5703125  56022752042  \n",
       "3910     105646.2109375  57655287183  \n",
       "3911       103994.71875  38997843858  \n",
       "3912        104644.9375  35620880384  \n",
       "\n",
       "[3911 rows x 6 columns]"
      ]
     },
     "execution_count": 57,
     "metadata": {},
     "output_type": "execute_result"
    }
   ],
   "source": [
    "import pandas as pd\n",
    "\n",
    "\n",
    "bitcoin = pd.read_csv('./data/BTC-USD.csv')\n",
    "bitcoin = bitcoin.iloc[2:,:]\n",
    "bitcoin"
   ]
  },
  {
   "cell_type": "code",
   "execution_count": 58,
   "id": "13f10ffc",
   "metadata": {},
   "outputs": [
    {
     "data": {
      "text/plain": [
       "Price     object\n",
       "Close     object\n",
       "High      object\n",
       "Low       object\n",
       "Open      object\n",
       "Volume    object\n",
       "dtype: object"
      ]
     },
     "execution_count": 58,
     "metadata": {},
     "output_type": "execute_result"
    }
   ],
   "source": [
    "bitcoin.dtypes"
   ]
  },
  {
   "cell_type": "code",
   "execution_count": 59,
   "id": "55b8937d",
   "metadata": {},
   "outputs": [],
   "source": [
    "cols = ['Close', 'High', 'Low', 'Open', 'Volume']\n",
    "bitcoin[cols] = bitcoin[cols].apply(pd.to_numeric, errors='coerce')"
   ]
  },
  {
   "cell_type": "code",
   "execution_count": 60,
   "id": "95c6d033",
   "metadata": {},
   "outputs": [
    {
     "data": {
      "text/plain": [
       "Price      object\n",
       "Close     float64\n",
       "High      float64\n",
       "Low       float64\n",
       "Open      float64\n",
       "Volume      int64\n",
       "dtype: object"
      ]
     },
     "execution_count": 60,
     "metadata": {},
     "output_type": "execute_result"
    }
   ],
   "source": [
    "bitcoin.dtypes"
   ]
  },
  {
   "cell_type": "code",
   "execution_count": 61,
   "id": "b54ced7a",
   "metadata": {},
   "outputs": [
    {
     "data": {
      "text/html": [
       "<div>\n",
       "<style scoped>\n",
       "    .dataframe tbody tr th:only-of-type {\n",
       "        vertical-align: middle;\n",
       "    }\n",
       "\n",
       "    .dataframe tbody tr th {\n",
       "        vertical-align: top;\n",
       "    }\n",
       "\n",
       "    .dataframe thead th {\n",
       "        text-align: right;\n",
       "    }\n",
       "</style>\n",
       "<table border=\"1\" class=\"dataframe\">\n",
       "  <thead>\n",
       "    <tr style=\"text-align: right;\">\n",
       "      <th></th>\n",
       "      <th>Price</th>\n",
       "      <th>Close</th>\n",
       "      <th>High</th>\n",
       "      <th>Low</th>\n",
       "      <th>Open</th>\n",
       "      <th>Volume</th>\n",
       "    </tr>\n",
       "  </thead>\n",
       "  <tbody>\n",
       "    <tr>\n",
       "      <th>2</th>\n",
       "      <td>2014-09-17</td>\n",
       "      <td>457.334015</td>\n",
       "      <td>468.174011</td>\n",
       "      <td>452.421997</td>\n",
       "      <td>465.864014</td>\n",
       "      <td>21056800</td>\n",
       "    </tr>\n",
       "    <tr>\n",
       "      <th>3</th>\n",
       "      <td>2014-09-18</td>\n",
       "      <td>424.440002</td>\n",
       "      <td>456.859985</td>\n",
       "      <td>413.104004</td>\n",
       "      <td>456.859985</td>\n",
       "      <td>34483200</td>\n",
       "    </tr>\n",
       "    <tr>\n",
       "      <th>4</th>\n",
       "      <td>2014-09-19</td>\n",
       "      <td>394.795990</td>\n",
       "      <td>427.834991</td>\n",
       "      <td>384.532013</td>\n",
       "      <td>424.102997</td>\n",
       "      <td>37919700</td>\n",
       "    </tr>\n",
       "    <tr>\n",
       "      <th>5</th>\n",
       "      <td>2014-09-20</td>\n",
       "      <td>408.903992</td>\n",
       "      <td>423.295990</td>\n",
       "      <td>389.882996</td>\n",
       "      <td>394.673004</td>\n",
       "      <td>36863600</td>\n",
       "    </tr>\n",
       "    <tr>\n",
       "      <th>6</th>\n",
       "      <td>2014-09-21</td>\n",
       "      <td>398.821014</td>\n",
       "      <td>412.425995</td>\n",
       "      <td>393.181000</td>\n",
       "      <td>408.084991</td>\n",
       "      <td>26580100</td>\n",
       "    </tr>\n",
       "    <tr>\n",
       "      <th>7</th>\n",
       "      <td>2014-09-22</td>\n",
       "      <td>402.152008</td>\n",
       "      <td>406.915985</td>\n",
       "      <td>397.130005</td>\n",
       "      <td>399.100006</td>\n",
       "      <td>24127600</td>\n",
       "    </tr>\n",
       "    <tr>\n",
       "      <th>8</th>\n",
       "      <td>2014-09-23</td>\n",
       "      <td>435.790985</td>\n",
       "      <td>441.557007</td>\n",
       "      <td>396.196991</td>\n",
       "      <td>402.092010</td>\n",
       "      <td>45099500</td>\n",
       "    </tr>\n",
       "    <tr>\n",
       "      <th>9</th>\n",
       "      <td>2014-09-24</td>\n",
       "      <td>423.204987</td>\n",
       "      <td>436.112000</td>\n",
       "      <td>421.131989</td>\n",
       "      <td>435.751007</td>\n",
       "      <td>30627700</td>\n",
       "    </tr>\n",
       "    <tr>\n",
       "      <th>10</th>\n",
       "      <td>2014-09-25</td>\n",
       "      <td>411.574005</td>\n",
       "      <td>423.519989</td>\n",
       "      <td>409.467987</td>\n",
       "      <td>423.156006</td>\n",
       "      <td>26814400</td>\n",
       "    </tr>\n",
       "    <tr>\n",
       "      <th>11</th>\n",
       "      <td>2014-09-26</td>\n",
       "      <td>404.424988</td>\n",
       "      <td>414.937988</td>\n",
       "      <td>400.009003</td>\n",
       "      <td>411.428986</td>\n",
       "      <td>21460800</td>\n",
       "    </tr>\n",
       "    <tr>\n",
       "      <th>12</th>\n",
       "      <td>2014-09-27</td>\n",
       "      <td>399.519989</td>\n",
       "      <td>406.622986</td>\n",
       "      <td>397.372009</td>\n",
       "      <td>403.556000</td>\n",
       "      <td>15029300</td>\n",
       "    </tr>\n",
       "    <tr>\n",
       "      <th>13</th>\n",
       "      <td>2014-09-28</td>\n",
       "      <td>377.181000</td>\n",
       "      <td>401.016998</td>\n",
       "      <td>374.332001</td>\n",
       "      <td>399.471008</td>\n",
       "      <td>23613300</td>\n",
       "    </tr>\n",
       "    <tr>\n",
       "      <th>14</th>\n",
       "      <td>2014-09-29</td>\n",
       "      <td>375.467010</td>\n",
       "      <td>385.210999</td>\n",
       "      <td>372.239990</td>\n",
       "      <td>376.928009</td>\n",
       "      <td>32497700</td>\n",
       "    </tr>\n",
       "    <tr>\n",
       "      <th>15</th>\n",
       "      <td>2014-09-30</td>\n",
       "      <td>386.944000</td>\n",
       "      <td>390.976990</td>\n",
       "      <td>373.442993</td>\n",
       "      <td>376.088013</td>\n",
       "      <td>34707300</td>\n",
       "    </tr>\n",
       "    <tr>\n",
       "      <th>16</th>\n",
       "      <td>2014-10-01</td>\n",
       "      <td>383.614990</td>\n",
       "      <td>391.378998</td>\n",
       "      <td>380.779999</td>\n",
       "      <td>387.427002</td>\n",
       "      <td>26229400</td>\n",
       "    </tr>\n",
       "  </tbody>\n",
       "</table>\n",
       "</div>"
      ],
      "text/plain": [
       "         Price       Close        High         Low        Open    Volume\n",
       "2   2014-09-17  457.334015  468.174011  452.421997  465.864014  21056800\n",
       "3   2014-09-18  424.440002  456.859985  413.104004  456.859985  34483200\n",
       "4   2014-09-19  394.795990  427.834991  384.532013  424.102997  37919700\n",
       "5   2014-09-20  408.903992  423.295990  389.882996  394.673004  36863600\n",
       "6   2014-09-21  398.821014  412.425995  393.181000  408.084991  26580100\n",
       "7   2014-09-22  402.152008  406.915985  397.130005  399.100006  24127600\n",
       "8   2014-09-23  435.790985  441.557007  396.196991  402.092010  45099500\n",
       "9   2014-09-24  423.204987  436.112000  421.131989  435.751007  30627700\n",
       "10  2014-09-25  411.574005  423.519989  409.467987  423.156006  26814400\n",
       "11  2014-09-26  404.424988  414.937988  400.009003  411.428986  21460800\n",
       "12  2014-09-27  399.519989  406.622986  397.372009  403.556000  15029300\n",
       "13  2014-09-28  377.181000  401.016998  374.332001  399.471008  23613300\n",
       "14  2014-09-29  375.467010  385.210999  372.239990  376.928009  32497700\n",
       "15  2014-09-30  386.944000  390.976990  373.442993  376.088013  34707300\n",
       "16  2014-10-01  383.614990  391.378998  380.779999  387.427002  26229400"
      ]
     },
     "execution_count": 61,
     "metadata": {},
     "output_type": "execute_result"
    }
   ],
   "source": [
    "bitcoin.head(15)"
   ]
  },
  {
   "cell_type": "code",
   "execution_count": 62,
   "id": "25f2892c",
   "metadata": {},
   "outputs": [
    {
     "data": {
      "text/plain": [
       "Price     0\n",
       "Close     0\n",
       "High      0\n",
       "Low       0\n",
       "Open      0\n",
       "Volume    0\n",
       "dtype: int64"
      ]
     },
     "execution_count": 62,
     "metadata": {},
     "output_type": "execute_result"
    }
   ],
   "source": [
    "bitcoin.isnull().sum()"
   ]
  },
  {
   "cell_type": "code",
   "execution_count": 63,
   "id": "1a719cb4",
   "metadata": {},
   "outputs": [
    {
     "data": {
      "text/plain": [
       "Price     0\n",
       "Close     0\n",
       "High      0\n",
       "Low       0\n",
       "Open      0\n",
       "Volume    0\n",
       "dtype: int64"
      ]
     },
     "execution_count": 63,
     "metadata": {},
     "output_type": "execute_result"
    }
   ],
   "source": [
    "bitcoin.isna().sum()"
   ]
  },
  {
   "cell_type": "code",
   "execution_count": 64,
   "id": "526c60f5",
   "metadata": {},
   "outputs": [
    {
     "data": {
      "text/plain": [
       "Close     2.248517e+04\n",
       "High      2.294980e+04\n",
       "Low       2.194747e+04\n",
       "Open      2.245971e+04\n",
       "Volume    1.954026e+10\n",
       "dtype: float64"
      ]
     },
     "execution_count": 64,
     "metadata": {},
     "output_type": "execute_result"
    }
   ],
   "source": [
    "# Calculando a media para todos os atributos\n",
    "bitcoin.mean(numeric_only=True)"
   ]
  },
  {
   "cell_type": "code",
   "execution_count": 65,
   "id": "dd9f54cb",
   "metadata": {},
   "outputs": [
    {
     "data": {
      "text/plain": [
       "Close     9.813070e+03\n",
       "High      1.002381e+04\n",
       "Low       9.591024e+03\n",
       "Open      9.800216e+03\n",
       "Volume    1.573717e+10\n",
       "dtype: float64"
      ]
     },
     "execution_count": 65,
     "metadata": {},
     "output_type": "execute_result"
    }
   ],
   "source": [
    "# Calculando a mediana para todos os atributos\n",
    "bitcoin.median(numeric_only=True)"
   ]
  },
  {
   "cell_type": "code",
   "execution_count": 66,
   "id": "d69ab345",
   "metadata": {},
   "outputs": [
    {
     "data": {
      "text/plain": [
       "Close     4.502930e+02\n",
       "High      4.554855e+02\n",
       "Low       4.442405e+02\n",
       "Open      4.503715e+02\n",
       "Volume    6.519480e+07\n",
       "Name: 0.15, dtype: float64"
      ]
     },
     "execution_count": 66,
     "metadata": {},
     "output_type": "execute_result"
    }
   ],
   "source": [
    "# Calculando percentil 15% para todos os atributos\n",
    "bitcoin.quantile(0.15,numeric_only=True)"
   ]
  },
  {
   "cell_type": "code",
   "execution_count": 67,
   "id": "3a1c39ef",
   "metadata": {},
   "outputs": [
    {
     "data": {
      "text/plain": [
       "Close     1.114952e+05\n",
       "High      1.117584e+05\n",
       "Low       1.091136e+05\n",
       "Open      1.115025e+05\n",
       "Volume    3.509620e+11\n",
       "dtype: float64"
      ]
     },
     "execution_count": 67,
     "metadata": {},
     "output_type": "execute_result"
    }
   ],
   "source": [
    "# Calculando o intervalo para todos os atributos\n",
    "bitcoin.max(numeric_only=True) - bitcoin.min(numeric_only=True)"
   ]
  },
  {
   "cell_type": "code",
   "execution_count": 68,
   "id": "4c005fc6",
   "metadata": {},
   "outputs": [
    {
     "data": {
      "text/plain": [
       "Close     6.813644e+08\n",
       "High      7.077955e+08\n",
       "Low       6.513698e+08\n",
       "Open      6.798327e+08\n",
       "Volume    4.384253e+20\n",
       "dtype: float64"
      ]
     },
     "execution_count": 68,
     "metadata": {},
     "output_type": "execute_result"
    }
   ],
   "source": [
    "# Calculando a variância para todos os atributos\n",
    "bitcoin.var(numeric_only=True)"
   ]
  },
  {
   "cell_type": "code",
   "execution_count": 69,
   "id": "84322396",
   "metadata": {},
   "outputs": [
    {
     "data": {
      "text/plain": [
       "Close     2.610296e+04\n",
       "High      2.660443e+04\n",
       "Low       2.552195e+04\n",
       "Open      2.607360e+04\n",
       "Volume    2.093861e+10\n",
       "dtype: float64"
      ]
     },
     "execution_count": 69,
     "metadata": {},
     "output_type": "execute_result"
    }
   ],
   "source": [
    "# Calculando o desvio-padrão para todos os atributos\n",
    "bitcoin.std(numeric_only=True)"
   ]
  },
  {
   "cell_type": "code",
   "execution_count": 70,
   "id": "869c2636",
   "metadata": {},
   "outputs": [
    {
     "data": {
      "text/html": [
       "<div>\n",
       "<style scoped>\n",
       "    .dataframe tbody tr th:only-of-type {\n",
       "        vertical-align: middle;\n",
       "    }\n",
       "\n",
       "    .dataframe tbody tr th {\n",
       "        vertical-align: top;\n",
       "    }\n",
       "\n",
       "    .dataframe thead th {\n",
       "        text-align: right;\n",
       "    }\n",
       "</style>\n",
       "<table border=\"1\" class=\"dataframe\">\n",
       "  <thead>\n",
       "    <tr style=\"text-align: right;\">\n",
       "      <th></th>\n",
       "      <th>Close</th>\n",
       "      <th>High</th>\n",
       "      <th>Low</th>\n",
       "      <th>Open</th>\n",
       "      <th>Volume</th>\n",
       "    </tr>\n",
       "  </thead>\n",
       "  <tbody>\n",
       "    <tr>\n",
       "      <th>Close</th>\n",
       "      <td>1.000000</td>\n",
       "      <td>0.999666</td>\n",
       "      <td>0.999577</td>\n",
       "      <td>0.999215</td>\n",
       "      <td>0.660181</td>\n",
       "    </tr>\n",
       "    <tr>\n",
       "      <th>High</th>\n",
       "      <td>0.999666</td>\n",
       "      <td>1.000000</td>\n",
       "      <td>0.999336</td>\n",
       "      <td>0.999627</td>\n",
       "      <td>0.666574</td>\n",
       "    </tr>\n",
       "    <tr>\n",
       "      <th>Low</th>\n",
       "      <td>0.999577</td>\n",
       "      <td>0.999336</td>\n",
       "      <td>1.000000</td>\n",
       "      <td>0.999473</td>\n",
       "      <td>0.651302</td>\n",
       "    </tr>\n",
       "    <tr>\n",
       "      <th>Open</th>\n",
       "      <td>0.999215</td>\n",
       "      <td>0.999627</td>\n",
       "      <td>0.999473</td>\n",
       "      <td>1.000000</td>\n",
       "      <td>0.660352</td>\n",
       "    </tr>\n",
       "    <tr>\n",
       "      <th>Volume</th>\n",
       "      <td>0.660181</td>\n",
       "      <td>0.666574</td>\n",
       "      <td>0.651302</td>\n",
       "      <td>0.660352</td>\n",
       "      <td>1.000000</td>\n",
       "    </tr>\n",
       "  </tbody>\n",
       "</table>\n",
       "</div>"
      ],
      "text/plain": [
       "           Close      High       Low      Open    Volume\n",
       "Close   1.000000  0.999666  0.999577  0.999215  0.660181\n",
       "High    0.999666  1.000000  0.999336  0.999627  0.666574\n",
       "Low     0.999577  0.999336  1.000000  0.999473  0.651302\n",
       "Open    0.999215  0.999627  0.999473  1.000000  0.660352\n",
       "Volume  0.660181  0.666574  0.651302  0.660352  1.000000"
      ]
     },
     "execution_count": 70,
     "metadata": {},
     "output_type": "execute_result"
    }
   ],
   "source": [
    "# Calculando a correlação\n",
    "bitcoin.corr(numeric_only=True)"
   ]
  },
  {
   "cell_type": "code",
   "execution_count": 71,
   "id": "83bc7a29",
   "metadata": {},
   "outputs": [
    {
     "data": {
      "text/plain": [
       "<Axes: >"
      ]
     },
     "execution_count": 71,
     "metadata": {},
     "output_type": "execute_result"
    },
    {
     "data": {
      "image/png": "[encoded data removed]",
      "text/plain": [
       "<Figure size 640x480 with 1 Axes>"
      ]
     },
     "metadata": {},
     "output_type": "display_data"
    }
   ],
   "source": [
    "import matplotlib.pyplot as plt\n",
    "bitcoin.plot(kind='box')"
   ]
  },
  {
   "cell_type": "code",
   "execution_count": 74,
   "id": "269355f9",
   "metadata": {},
   "outputs": [
    {
     "data": {
      "text/html": [
       "<div>\n",
       "<style scoped>\n",
       "    .dataframe tbody tr th:only-of-type {\n",
       "        vertical-align: middle;\n",
       "    }\n",
       "\n",
       "    .dataframe tbody tr th {\n",
       "        vertical-align: top;\n",
       "    }\n",
       "\n",
       "    .dataframe thead th {\n",
       "        text-align: right;\n",
       "    }\n",
       "</style>\n",
       "<table border=\"1\" class=\"dataframe\">\n",
       "  <thead>\n",
       "    <tr style=\"text-align: right;\">\n",
       "      <th></th>\n",
       "      <th>Close</th>\n",
       "      <th>High</th>\n",
       "      <th>Low</th>\n",
       "      <th>Open</th>\n",
       "      <th>Volume</th>\n",
       "    </tr>\n",
       "  </thead>\n",
       "  <tbody>\n",
       "    <tr>\n",
       "      <th>count</th>\n",
       "      <td>3911.000000</td>\n",
       "      <td>3911.000000</td>\n",
       "      <td>3911.000000</td>\n",
       "      <td>3911.000000</td>\n",
       "      <td>3.911000e+03</td>\n",
       "    </tr>\n",
       "    <tr>\n",
       "      <th>mean</th>\n",
       "      <td>22485.174850</td>\n",
       "      <td>22949.801696</td>\n",
       "      <td>21947.466082</td>\n",
       "      <td>22459.705025</td>\n",
       "      <td>1.954026e+10</td>\n",
       "    </tr>\n",
       "    <tr>\n",
       "      <th>std</th>\n",
       "      <td>26102.957464</td>\n",
       "      <td>26604.426509</td>\n",
       "      <td>25521.947573</td>\n",
       "      <td>26073.600856</td>\n",
       "      <td>2.093861e+10</td>\n",
       "    </tr>\n",
       "    <tr>\n",
       "      <th>min</th>\n",
       "      <td>178.102997</td>\n",
       "      <td>211.731003</td>\n",
       "      <td>171.509995</td>\n",
       "      <td>176.897003</td>\n",
       "      <td>5.914570e+06</td>\n",
       "    </tr>\n",
       "    <tr>\n",
       "      <th>25%</th>\n",
       "      <td>2018.864990</td>\n",
       "      <td>2101.905029</td>\n",
       "      <td>1911.434998</td>\n",
       "      <td>1988.109985</td>\n",
       "      <td>8.604240e+08</td>\n",
       "    </tr>\n",
       "    <tr>\n",
       "      <th>50%</th>\n",
       "      <td>9813.070312</td>\n",
       "      <td>10023.807617</td>\n",
       "      <td>9591.024414</td>\n",
       "      <td>9800.215820</td>\n",
       "      <td>1.573717e+10</td>\n",
       "    </tr>\n",
       "    <tr>\n",
       "      <th>75%</th>\n",
       "      <td>36669.626953</td>\n",
       "      <td>37579.658203</td>\n",
       "      <td>35271.583984</td>\n",
       "      <td>36648.519531</td>\n",
       "      <td>3.082710e+10</td>\n",
       "    </tr>\n",
       "    <tr>\n",
       "      <th>max</th>\n",
       "      <td>111673.281250</td>\n",
       "      <td>111970.171875</td>\n",
       "      <td>109285.070312</td>\n",
       "      <td>111679.359375</td>\n",
       "      <td>3.509679e+11</td>\n",
       "    </tr>\n",
       "  </tbody>\n",
       "</table>\n",
       "</div>"
      ],
      "text/plain": [
       "               Close           High            Low           Open  \\\n",
       "count    3911.000000    3911.000000    3911.000000    3911.000000   \n",
       "mean    22485.174850   22949.801696   21947.466082   22459.705025   \n",
       "std     26102.957464   26604.426509   25521.947573   26073.600856   \n",
       "min       178.102997     211.731003     171.509995     176.897003   \n",
       "25%      2018.864990    2101.905029    1911.434998    1988.109985   \n",
       "50%      9813.070312   10023.807617    9591.024414    9800.215820   \n",
       "75%     36669.626953   37579.658203   35271.583984   36648.519531   \n",
       "max    111673.281250  111970.171875  109285.070312  111679.359375   \n",
       "\n",
       "             Volume  \n",
       "count  3.911000e+03  \n",
       "mean   1.954026e+10  \n",
       "std    2.093861e+10  \n",
       "min    5.914570e+06  \n",
       "25%    8.604240e+08  \n",
       "50%    1.573717e+10  \n",
       "75%    3.082710e+10  \n",
       "max    3.509679e+11  "
      ]
     },
     "execution_count": 74,
     "metadata": {},
     "output_type": "execute_result"
    }
   ],
   "source": [
    "bitcoin.describe()"
   ]
  },
  {
   "cell_type": "markdown",
   "id": "ed0446c5",
   "metadata": {},
   "source": [
    "#### Tratando dados"
   ]
  },
  {
   "cell_type": "code",
   "execution_count": 75,
   "id": "fd510d56",
   "metadata": {},
   "outputs": [
    {
     "data": {
      "text/html": [
       "<div>\n",
       "<style scoped>\n",
       "    .dataframe tbody tr th:only-of-type {\n",
       "        vertical-align: middle;\n",
       "    }\n",
       "\n",
       "    .dataframe tbody tr th {\n",
       "        vertical-align: top;\n",
       "    }\n",
       "\n",
       "    .dataframe thead th {\n",
       "        text-align: right;\n",
       "    }\n",
       "</style>\n",
       "<table border=\"1\" class=\"dataframe\">\n",
       "  <thead>\n",
       "    <tr style=\"text-align: right;\">\n",
       "      <th></th>\n",
       "      <th>Price</th>\n",
       "      <th>Close</th>\n",
       "      <th>High</th>\n",
       "      <th>Low</th>\n",
       "      <th>Open</th>\n",
       "      <th>Volume</th>\n",
       "    </tr>\n",
       "  </thead>\n",
       "  <tbody>\n",
       "  </tbody>\n",
       "</table>\n",
       "</div>"
      ],
      "text/plain": [
       "Empty DataFrame\n",
       "Columns: [Price, Close, High, Low, Open, Volume]\n",
       "Index: []"
      ]
     },
     "execution_count": 75,
     "metadata": {},
     "output_type": "execute_result"
    }
   ],
   "source": [
    "bitcoin[bitcoin.duplicated() == True]"
   ]
  },
  {
   "cell_type": "code",
   "execution_count": null,
   "id": "ceb5eddc",
   "metadata": {},
   "outputs": [],
   "source": []
  }
 ],
 "metadata": {
  "kernelspec": {
   "display_name": "venv",
   "language": "python",
   "name": "python3"
  },
  "language_info": {
   "codemirror_mode": {
    "name": "ipython",
    "version": 3
   },
   "file_extension": ".py",
   "mimetype": "text/x-python",
   "name": "python",
   "nbconvert_exporter": "python",
   "pygments_lexer": "ipython3",
   "version": "3.12.3"
  }
 },
 "nbformat": 4,
 "nbformat_minor": 5
}
