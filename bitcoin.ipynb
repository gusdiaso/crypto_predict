{
 "cells": [
  {
   "cell_type": "markdown",
   "id": "90b8b0c5",
   "metadata": {},
   "source": [
    "#### Importação das bibliotecas"
   ]
  },
  {
   "cell_type": "code",
   "execution_count": 281,
   "id": "3fd8a96c",
   "metadata": {},
   "outputs": [],
   "source": [
    "import pandas as pd\n",
    "import matplotlib.pyplot as plt\n",
    "import seaborn as sns\n",
    "import numpy as np\n",
    "from sklearn.preprocessing import MinMaxScaler"
   ]
  },
  {
   "cell_type": "markdown",
   "id": "c89826c8",
   "metadata": {},
   "source": [
    "#### Carregamento e ajuste dos dados"
   ]
  },
  {
   "cell_type": "code",
   "execution_count": 282,
   "id": "6ae98936",
   "metadata": {},
   "outputs": [
    {
     "data": {
      "text/html": [
       "<div>\n",
       "<style scoped>\n",
       "    .dataframe tbody tr th:only-of-type {\n",
       "        vertical-align: middle;\n",
       "    }\n",
       "\n",
       "    .dataframe tbody tr th {\n",
       "        vertical-align: top;\n",
       "    }\n",
       "\n",
       "    .dataframe thead th {\n",
       "        text-align: right;\n",
       "    }\n",
       "</style>\n",
       "<table border=\"1\" class=\"dataframe\">\n",
       "  <thead>\n",
       "    <tr style=\"text-align: right;\">\n",
       "      <th></th>\n",
       "      <th>Price</th>\n",
       "      <th>Close</th>\n",
       "      <th>High</th>\n",
       "      <th>Low</th>\n",
       "      <th>Open</th>\n",
       "      <th>Volume</th>\n",
       "    </tr>\n",
       "  </thead>\n",
       "  <tbody>\n",
       "    <tr>\n",
       "      <th>2</th>\n",
       "      <td>2014-09-17</td>\n",
       "      <td>457.3340148925781</td>\n",
       "      <td>468.17401123046875</td>\n",
       "      <td>452.4219970703125</td>\n",
       "      <td>465.864013671875</td>\n",
       "      <td>21056800</td>\n",
       "    </tr>\n",
       "    <tr>\n",
       "      <th>3</th>\n",
       "      <td>2014-09-18</td>\n",
       "      <td>424.44000244140625</td>\n",
       "      <td>456.8599853515625</td>\n",
       "      <td>413.10400390625</td>\n",
       "      <td>456.8599853515625</td>\n",
       "      <td>34483200</td>\n",
       "    </tr>\n",
       "    <tr>\n",
       "      <th>4</th>\n",
       "      <td>2014-09-19</td>\n",
       "      <td>394.7959899902344</td>\n",
       "      <td>427.8349914550781</td>\n",
       "      <td>384.5320129394531</td>\n",
       "      <td>424.1029968261719</td>\n",
       "      <td>37919700</td>\n",
       "    </tr>\n",
       "    <tr>\n",
       "      <th>5</th>\n",
       "      <td>2014-09-20</td>\n",
       "      <td>408.90399169921875</td>\n",
       "      <td>423.2959899902344</td>\n",
       "      <td>389.88299560546875</td>\n",
       "      <td>394.6730041503906</td>\n",
       "      <td>36863600</td>\n",
       "    </tr>\n",
       "    <tr>\n",
       "      <th>6</th>\n",
       "      <td>2014-09-21</td>\n",
       "      <td>398.8210144042969</td>\n",
       "      <td>412.4259948730469</td>\n",
       "      <td>393.1809997558594</td>\n",
       "      <td>408.0849914550781</td>\n",
       "      <td>26580100</td>\n",
       "    </tr>\n",
       "    <tr>\n",
       "      <th>7</th>\n",
       "      <td>2014-09-22</td>\n",
       "      <td>402.1520080566406</td>\n",
       "      <td>406.9159851074219</td>\n",
       "      <td>397.1300048828125</td>\n",
       "      <td>399.1000061035156</td>\n",
       "      <td>24127600</td>\n",
       "    </tr>\n",
       "    <tr>\n",
       "      <th>8</th>\n",
       "      <td>2014-09-23</td>\n",
       "      <td>435.7909851074219</td>\n",
       "      <td>441.5570068359375</td>\n",
       "      <td>396.1969909667969</td>\n",
       "      <td>402.0920104980469</td>\n",
       "      <td>45099500</td>\n",
       "    </tr>\n",
       "    <tr>\n",
       "      <th>9</th>\n",
       "      <td>2014-09-24</td>\n",
       "      <td>423.2049865722656</td>\n",
       "      <td>436.11199951171875</td>\n",
       "      <td>421.1319885253906</td>\n",
       "      <td>435.7510070800781</td>\n",
       "      <td>30627700</td>\n",
       "    </tr>\n",
       "    <tr>\n",
       "      <th>10</th>\n",
       "      <td>2014-09-25</td>\n",
       "      <td>411.5740051269531</td>\n",
       "      <td>423.5199890136719</td>\n",
       "      <td>409.4679870605469</td>\n",
       "      <td>423.156005859375</td>\n",
       "      <td>26814400</td>\n",
       "    </tr>\n",
       "    <tr>\n",
       "      <th>11</th>\n",
       "      <td>2014-09-26</td>\n",
       "      <td>404.42498779296875</td>\n",
       "      <td>414.93798828125</td>\n",
       "      <td>400.0090026855469</td>\n",
       "      <td>411.4289855957031</td>\n",
       "      <td>21460800</td>\n",
       "    </tr>\n",
       "  </tbody>\n",
       "</table>\n",
       "</div>"
      ],
      "text/plain": [
       "         Price               Close                High                 Low  \\\n",
       "2   2014-09-17   457.3340148925781  468.17401123046875   452.4219970703125   \n",
       "3   2014-09-18  424.44000244140625   456.8599853515625     413.10400390625   \n",
       "4   2014-09-19   394.7959899902344   427.8349914550781   384.5320129394531   \n",
       "5   2014-09-20  408.90399169921875   423.2959899902344  389.88299560546875   \n",
       "6   2014-09-21   398.8210144042969   412.4259948730469   393.1809997558594   \n",
       "7   2014-09-22   402.1520080566406   406.9159851074219   397.1300048828125   \n",
       "8   2014-09-23   435.7909851074219   441.5570068359375   396.1969909667969   \n",
       "9   2014-09-24   423.2049865722656  436.11199951171875   421.1319885253906   \n",
       "10  2014-09-25   411.5740051269531   423.5199890136719   409.4679870605469   \n",
       "11  2014-09-26  404.42498779296875     414.93798828125   400.0090026855469   \n",
       "\n",
       "                 Open    Volume  \n",
       "2    465.864013671875  21056800  \n",
       "3   456.8599853515625  34483200  \n",
       "4   424.1029968261719  37919700  \n",
       "5   394.6730041503906  36863600  \n",
       "6   408.0849914550781  26580100  \n",
       "7   399.1000061035156  24127600  \n",
       "8   402.0920104980469  45099500  \n",
       "9   435.7510070800781  30627700  \n",
       "10   423.156005859375  26814400  \n",
       "11  411.4289855957031  21460800  "
      ]
     },
     "execution_count": 282,
     "metadata": {},
     "output_type": "execute_result"
    }
   ],
   "source": [
    "df = pd.read_csv('./data/BTC-USD.csv')\n",
    "df = df.iloc[2:,:]\n",
    "df.head(10)"
   ]
  },
  {
   "cell_type": "code",
   "execution_count": 283,
   "id": "13f10ffc",
   "metadata": {},
   "outputs": [
    {
     "name": "stdout",
     "output_type": "stream",
     "text": [
      "<class 'pandas.core.frame.DataFrame'>\n",
      "RangeIndex: 4018 entries, 2 to 4019\n",
      "Data columns (total 6 columns):\n",
      " #   Column  Non-Null Count  Dtype \n",
      "---  ------  --------------  ----- \n",
      " 0   Price   4018 non-null   object\n",
      " 1   Close   4018 non-null   object\n",
      " 2   High    4018 non-null   object\n",
      " 3   Low     4018 non-null   object\n",
      " 4   Open    4018 non-null   object\n",
      " 5   Volume  4018 non-null   object\n",
      "dtypes: object(6)\n",
      "memory usage: 188.5+ KB\n"
     ]
    }
   ],
   "source": [
    "df.info()"
   ]
  },
  {
   "cell_type": "markdown",
   "id": "8c61861d",
   "metadata": {},
   "source": [
    "Aqui notamos que estao todas as colunas com o tipo incorreto, vamos ajustar cada uma delas"
   ]
  },
  {
   "cell_type": "code",
   "execution_count": 284,
   "id": "55b8937d",
   "metadata": {},
   "outputs": [],
   "source": [
    "cols = ['Close', 'High', 'Low', 'Open', 'Volume']\n",
    "df[cols] = df[cols].apply(pd.to_numeric, errors='coerce')"
   ]
  },
  {
   "cell_type": "markdown",
   "id": "2c18989d",
   "metadata": {},
   "source": [
    "Apliquei a função pd.to_numeric em cada uma dessas colunas que converte os valores pra número (float ou int)<br>\n",
    "Se algum valor não puder ser convertido (por exemplo, \"ABC\", \"?\", \"-\"), o parâmetro errors='coerce' manda ele transformar em NaN (valor nulo)"
   ]
  },
  {
   "cell_type": "code",
   "execution_count": 285,
   "id": "95c6d033",
   "metadata": {},
   "outputs": [
    {
     "data": {
      "text/plain": [
       "Price      object\n",
       "Close     float64\n",
       "High      float64\n",
       "Low       float64\n",
       "Open      float64\n",
       "Volume      int64\n",
       "dtype: object"
      ]
     },
     "execution_count": 285,
     "metadata": {},
     "output_type": "execute_result"
    }
   ],
   "source": [
    "df.dtypes"
   ]
  },
  {
   "cell_type": "markdown",
   "id": "552367c9",
   "metadata": {},
   "source": [
    "agora so falta colocar a coluna de data, para o tipo data"
   ]
  },
  {
   "cell_type": "code",
   "execution_count": 286,
   "id": "7804f5cf",
   "metadata": {},
   "outputs": [
    {
     "data": {
      "text/plain": [
       "Date      datetime64[ns]\n",
       "Close            float64\n",
       "High             float64\n",
       "Low              float64\n",
       "Open             float64\n",
       "Volume             int64\n",
       "dtype: object"
      ]
     },
     "execution_count": 286,
     "metadata": {},
     "output_type": "execute_result"
    }
   ],
   "source": [
    "df = df.rename(columns={'Price': 'Date'})\n",
    "df['Date'] = pd.to_datetime(df['Date'])\n",
    "df.dtypes"
   ]
  },
  {
   "cell_type": "code",
   "execution_count": 287,
   "id": "950acf94",
   "metadata": {},
   "outputs": [],
   "source": [
    "df = df.set_index('Date')\n",
    "df = df.sort_index()"
   ]
  },
  {
   "cell_type": "markdown",
   "id": "35514910",
   "metadata": {},
   "source": [
    "Agora já ajustei o nome da coluna, transformei para data, coloquei a data como indice do meu dataset e ordenei por garantia, porque vi que a ordem era importante para uma LSTM"
   ]
  },
  {
   "cell_type": "code",
   "execution_count": 288,
   "id": "b54ced7a",
   "metadata": {},
   "outputs": [
    {
     "data": {
      "text/html": [
       "<div>\n",
       "<style scoped>\n",
       "    .dataframe tbody tr th:only-of-type {\n",
       "        vertical-align: middle;\n",
       "    }\n",
       "\n",
       "    .dataframe tbody tr th {\n",
       "        vertical-align: top;\n",
       "    }\n",
       "\n",
       "    .dataframe thead th {\n",
       "        text-align: right;\n",
       "    }\n",
       "</style>\n",
       "<table border=\"1\" class=\"dataframe\">\n",
       "  <thead>\n",
       "    <tr style=\"text-align: right;\">\n",
       "      <th></th>\n",
       "      <th>Close</th>\n",
       "      <th>High</th>\n",
       "      <th>Low</th>\n",
       "      <th>Open</th>\n",
       "      <th>Volume</th>\n",
       "    </tr>\n",
       "    <tr>\n",
       "      <th>Date</th>\n",
       "      <th></th>\n",
       "      <th></th>\n",
       "      <th></th>\n",
       "      <th></th>\n",
       "      <th></th>\n",
       "    </tr>\n",
       "  </thead>\n",
       "  <tbody>\n",
       "    <tr>\n",
       "      <th>2014-09-17</th>\n",
       "      <td>457.334015</td>\n",
       "      <td>468.174011</td>\n",
       "      <td>452.421997</td>\n",
       "      <td>465.864014</td>\n",
       "      <td>21056800</td>\n",
       "    </tr>\n",
       "    <tr>\n",
       "      <th>2014-09-18</th>\n",
       "      <td>424.440002</td>\n",
       "      <td>456.859985</td>\n",
       "      <td>413.104004</td>\n",
       "      <td>456.859985</td>\n",
       "      <td>34483200</td>\n",
       "    </tr>\n",
       "    <tr>\n",
       "      <th>2014-09-19</th>\n",
       "      <td>394.795990</td>\n",
       "      <td>427.834991</td>\n",
       "      <td>384.532013</td>\n",
       "      <td>424.102997</td>\n",
       "      <td>37919700</td>\n",
       "    </tr>\n",
       "    <tr>\n",
       "      <th>2014-09-20</th>\n",
       "      <td>408.903992</td>\n",
       "      <td>423.295990</td>\n",
       "      <td>389.882996</td>\n",
       "      <td>394.673004</td>\n",
       "      <td>36863600</td>\n",
       "    </tr>\n",
       "    <tr>\n",
       "      <th>2014-09-21</th>\n",
       "      <td>398.821014</td>\n",
       "      <td>412.425995</td>\n",
       "      <td>393.181000</td>\n",
       "      <td>408.084991</td>\n",
       "      <td>26580100</td>\n",
       "    </tr>\n",
       "    <tr>\n",
       "      <th>2014-09-22</th>\n",
       "      <td>402.152008</td>\n",
       "      <td>406.915985</td>\n",
       "      <td>397.130005</td>\n",
       "      <td>399.100006</td>\n",
       "      <td>24127600</td>\n",
       "    </tr>\n",
       "    <tr>\n",
       "      <th>2014-09-23</th>\n",
       "      <td>435.790985</td>\n",
       "      <td>441.557007</td>\n",
       "      <td>396.196991</td>\n",
       "      <td>402.092010</td>\n",
       "      <td>45099500</td>\n",
       "    </tr>\n",
       "    <tr>\n",
       "      <th>2014-09-24</th>\n",
       "      <td>423.204987</td>\n",
       "      <td>436.112000</td>\n",
       "      <td>421.131989</td>\n",
       "      <td>435.751007</td>\n",
       "      <td>30627700</td>\n",
       "    </tr>\n",
       "    <tr>\n",
       "      <th>2014-09-25</th>\n",
       "      <td>411.574005</td>\n",
       "      <td>423.519989</td>\n",
       "      <td>409.467987</td>\n",
       "      <td>423.156006</td>\n",
       "      <td>26814400</td>\n",
       "    </tr>\n",
       "    <tr>\n",
       "      <th>2014-09-26</th>\n",
       "      <td>404.424988</td>\n",
       "      <td>414.937988</td>\n",
       "      <td>400.009003</td>\n",
       "      <td>411.428986</td>\n",
       "      <td>21460800</td>\n",
       "    </tr>\n",
       "    <tr>\n",
       "      <th>2014-09-27</th>\n",
       "      <td>399.519989</td>\n",
       "      <td>406.622986</td>\n",
       "      <td>397.372009</td>\n",
       "      <td>403.556000</td>\n",
       "      <td>15029300</td>\n",
       "    </tr>\n",
       "    <tr>\n",
       "      <th>2014-09-28</th>\n",
       "      <td>377.181000</td>\n",
       "      <td>401.016998</td>\n",
       "      <td>374.332001</td>\n",
       "      <td>399.471008</td>\n",
       "      <td>23613300</td>\n",
       "    </tr>\n",
       "    <tr>\n",
       "      <th>2014-09-29</th>\n",
       "      <td>375.467010</td>\n",
       "      <td>385.210999</td>\n",
       "      <td>372.239990</td>\n",
       "      <td>376.928009</td>\n",
       "      <td>32497700</td>\n",
       "    </tr>\n",
       "    <tr>\n",
       "      <th>2014-09-30</th>\n",
       "      <td>386.944000</td>\n",
       "      <td>390.976990</td>\n",
       "      <td>373.442993</td>\n",
       "      <td>376.088013</td>\n",
       "      <td>34707300</td>\n",
       "    </tr>\n",
       "    <tr>\n",
       "      <th>2014-10-01</th>\n",
       "      <td>383.614990</td>\n",
       "      <td>391.378998</td>\n",
       "      <td>380.779999</td>\n",
       "      <td>387.427002</td>\n",
       "      <td>26229400</td>\n",
       "    </tr>\n",
       "  </tbody>\n",
       "</table>\n",
       "</div>"
      ],
      "text/plain": [
       "                 Close        High         Low        Open    Volume\n",
       "Date                                                                \n",
       "2014-09-17  457.334015  468.174011  452.421997  465.864014  21056800\n",
       "2014-09-18  424.440002  456.859985  413.104004  456.859985  34483200\n",
       "2014-09-19  394.795990  427.834991  384.532013  424.102997  37919700\n",
       "2014-09-20  408.903992  423.295990  389.882996  394.673004  36863600\n",
       "2014-09-21  398.821014  412.425995  393.181000  408.084991  26580100\n",
       "2014-09-22  402.152008  406.915985  397.130005  399.100006  24127600\n",
       "2014-09-23  435.790985  441.557007  396.196991  402.092010  45099500\n",
       "2014-09-24  423.204987  436.112000  421.131989  435.751007  30627700\n",
       "2014-09-25  411.574005  423.519989  409.467987  423.156006  26814400\n",
       "2014-09-26  404.424988  414.937988  400.009003  411.428986  21460800\n",
       "2014-09-27  399.519989  406.622986  397.372009  403.556000  15029300\n",
       "2014-09-28  377.181000  401.016998  374.332001  399.471008  23613300\n",
       "2014-09-29  375.467010  385.210999  372.239990  376.928009  32497700\n",
       "2014-09-30  386.944000  390.976990  373.442993  376.088013  34707300\n",
       "2014-10-01  383.614990  391.378998  380.779999  387.427002  26229400"
      ]
     },
     "execution_count": 288,
     "metadata": {},
     "output_type": "execute_result"
    }
   ],
   "source": [
    "df.head(15)"
   ]
  },
  {
   "cell_type": "code",
   "execution_count": 289,
   "id": "1a719cb4",
   "metadata": {},
   "outputs": [
    {
     "data": {
      "text/plain": [
       "Close     0\n",
       "High      0\n",
       "Low       0\n",
       "Open      0\n",
       "Volume    0\n",
       "dtype: int64"
      ]
     },
     "execution_count": 289,
     "metadata": {},
     "output_type": "execute_result"
    }
   ],
   "source": [
    "df.isna().sum()"
   ]
  },
  {
   "cell_type": "code",
   "execution_count": 290,
   "id": "fd510d56",
   "metadata": {},
   "outputs": [
    {
     "data": {
      "text/html": [
       "<div>\n",
       "<style scoped>\n",
       "    .dataframe tbody tr th:only-of-type {\n",
       "        vertical-align: middle;\n",
       "    }\n",
       "\n",
       "    .dataframe tbody tr th {\n",
       "        vertical-align: top;\n",
       "    }\n",
       "\n",
       "    .dataframe thead th {\n",
       "        text-align: right;\n",
       "    }\n",
       "</style>\n",
       "<table border=\"1\" class=\"dataframe\">\n",
       "  <thead>\n",
       "    <tr style=\"text-align: right;\">\n",
       "      <th></th>\n",
       "      <th>Close</th>\n",
       "      <th>High</th>\n",
       "      <th>Low</th>\n",
       "      <th>Open</th>\n",
       "      <th>Volume</th>\n",
       "    </tr>\n",
       "    <tr>\n",
       "      <th>Date</th>\n",
       "      <th></th>\n",
       "      <th></th>\n",
       "      <th></th>\n",
       "      <th></th>\n",
       "      <th></th>\n",
       "    </tr>\n",
       "  </thead>\n",
       "  <tbody>\n",
       "  </tbody>\n",
       "</table>\n",
       "</div>"
      ],
      "text/plain": [
       "Empty DataFrame\n",
       "Columns: [Close, High, Low, Open, Volume]\n",
       "Index: []"
      ]
     },
     "execution_count": 290,
     "metadata": {},
     "output_type": "execute_result"
    }
   ],
   "source": [
    "df[df.duplicated() == True]"
   ]
  },
  {
   "cell_type": "markdown",
   "id": "f3bd3f2c",
   "metadata": {},
   "source": [
    "#### Explorando um pouco os dados"
   ]
  },
  {
   "cell_type": "code",
   "execution_count": 291,
   "id": "526c60f5",
   "metadata": {},
   "outputs": [
    {
     "data": {
      "text/html": [
       "<div>\n",
       "<style scoped>\n",
       "    .dataframe tbody tr th:only-of-type {\n",
       "        vertical-align: middle;\n",
       "    }\n",
       "\n",
       "    .dataframe tbody tr th {\n",
       "        vertical-align: top;\n",
       "    }\n",
       "\n",
       "    .dataframe thead th {\n",
       "        text-align: right;\n",
       "    }\n",
       "</style>\n",
       "<table border=\"1\" class=\"dataframe\">\n",
       "  <thead>\n",
       "    <tr style=\"text-align: right;\">\n",
       "      <th></th>\n",
       "      <th>count</th>\n",
       "      <th>mean</th>\n",
       "      <th>std</th>\n",
       "      <th>min</th>\n",
       "      <th>25%</th>\n",
       "      <th>50%</th>\n",
       "      <th>75%</th>\n",
       "      <th>max</th>\n",
       "    </tr>\n",
       "  </thead>\n",
       "  <tbody>\n",
       "    <tr>\n",
       "      <th>Close</th>\n",
       "      <td>4018.0</td>\n",
       "      <td>2.487618e+04</td>\n",
       "      <td>2.954574e+04</td>\n",
       "      <td>1.781030e+02</td>\n",
       "      <td>2.506395e+03</td>\n",
       "      <td>1.029073e+04</td>\n",
       "      <td>3.932764e+04</td>\n",
       "      <td>1.233441e+05</td>\n",
       "    </tr>\n",
       "    <tr>\n",
       "      <th>High</th>\n",
       "      <td>4018.0</td>\n",
       "      <td>2.536239e+04</td>\n",
       "      <td>3.004142e+04</td>\n",
       "      <td>2.117310e+02</td>\n",
       "      <td>2.571953e+03</td>\n",
       "      <td>1.046631e+04</td>\n",
       "      <td>4.023595e+04</td>\n",
       "      <td>1.244571e+05</td>\n",
       "    </tr>\n",
       "    <tr>\n",
       "      <th>Low</th>\n",
       "      <td>4018.0</td>\n",
       "      <td>2.431383e+04</td>\n",
       "      <td>2.897382e+04</td>\n",
       "      <td>1.715100e+02</td>\n",
       "      <td>2.387572e+03</td>\n",
       "      <td>1.002435e+04</td>\n",
       "      <td>3.811345e+04</td>\n",
       "      <td>1.189592e+05</td>\n",
       "    </tr>\n",
       "    <tr>\n",
       "      <th>Open</th>\n",
       "      <td>4018.0</td>\n",
       "      <td>2.484895e+04</td>\n",
       "      <td>2.951551e+04</td>\n",
       "      <td>1.768970e+02</td>\n",
       "      <td>2.494930e+03</td>\n",
       "      <td>1.028126e+04</td>\n",
       "      <td>3.930022e+04</td>\n",
       "      <td>1.233394e+05</td>\n",
       "    </tr>\n",
       "    <tr>\n",
       "      <th>Volume</th>\n",
       "      <td>4018.0</td>\n",
       "      <td>2.058300e+10</td>\n",
       "      <td>2.186031e+10</td>\n",
       "      <td>5.914570e+06</td>\n",
       "      <td>1.083760e+09</td>\n",
       "      <td>1.650599e+10</td>\n",
       "      <td>3.213259e+10</td>\n",
       "      <td>3.509679e+11</td>\n",
       "    </tr>\n",
       "  </tbody>\n",
       "</table>\n",
       "</div>"
      ],
      "text/plain": [
       "         count          mean           std           min           25%  \\\n",
       "Close   4018.0  2.487618e+04  2.954574e+04  1.781030e+02  2.506395e+03   \n",
       "High    4018.0  2.536239e+04  3.004142e+04  2.117310e+02  2.571953e+03   \n",
       "Low     4018.0  2.431383e+04  2.897382e+04  1.715100e+02  2.387572e+03   \n",
       "Open    4018.0  2.484895e+04  2.951551e+04  1.768970e+02  2.494930e+03   \n",
       "Volume  4018.0  2.058300e+10  2.186031e+10  5.914570e+06  1.083760e+09   \n",
       "\n",
       "                 50%           75%           max  \n",
       "Close   1.029073e+04  3.932764e+04  1.233441e+05  \n",
       "High    1.046631e+04  4.023595e+04  1.244571e+05  \n",
       "Low     1.002435e+04  3.811345e+04  1.189592e+05  \n",
       "Open    1.028126e+04  3.930022e+04  1.233394e+05  \n",
       "Volume  1.650599e+10  3.213259e+10  3.509679e+11  "
      ]
     },
     "execution_count": 291,
     "metadata": {},
     "output_type": "execute_result"
    }
   ],
   "source": [
    "df.describe().transpose()"
   ]
  },
  {
   "cell_type": "code",
   "execution_count": 292,
   "id": "dd9f54cb",
   "metadata": {},
   "outputs": [
    {
     "data": {
      "text/html": [
       "<div>\n",
       "<style scoped>\n",
       "    .dataframe tbody tr th:only-of-type {\n",
       "        vertical-align: middle;\n",
       "    }\n",
       "\n",
       "    .dataframe tbody tr th {\n",
       "        vertical-align: top;\n",
       "    }\n",
       "\n",
       "    .dataframe thead th {\n",
       "        text-align: right;\n",
       "    }\n",
       "</style>\n",
       "<table border=\"1\" class=\"dataframe\">\n",
       "  <thead>\n",
       "    <tr style=\"text-align: right;\">\n",
       "      <th></th>\n",
       "      <th>median</th>\n",
       "    </tr>\n",
       "  </thead>\n",
       "  <tbody>\n",
       "    <tr>\n",
       "      <th>Close</th>\n",
       "      <td>1.029073e+04</td>\n",
       "    </tr>\n",
       "    <tr>\n",
       "      <th>High</th>\n",
       "      <td>1.046631e+04</td>\n",
       "    </tr>\n",
       "    <tr>\n",
       "      <th>Low</th>\n",
       "      <td>1.002435e+04</td>\n",
       "    </tr>\n",
       "    <tr>\n",
       "      <th>Open</th>\n",
       "      <td>1.028126e+04</td>\n",
       "    </tr>\n",
       "    <tr>\n",
       "      <th>Volume</th>\n",
       "      <td>1.650599e+10</td>\n",
       "    </tr>\n",
       "  </tbody>\n",
       "</table>\n",
       "</div>"
      ],
      "text/plain": [
       "              median\n",
       "Close   1.029073e+04\n",
       "High    1.046631e+04\n",
       "Low     1.002435e+04\n",
       "Open    1.028126e+04\n",
       "Volume  1.650599e+10"
      ]
     },
     "execution_count": 292,
     "metadata": {},
     "output_type": "execute_result"
    }
   ],
   "source": [
    "df.median().to_frame(name='median')"
   ]
  },
  {
   "cell_type": "code",
   "execution_count": 293,
   "id": "4c005fc6",
   "metadata": {},
   "outputs": [
    {
     "data": {
      "text/html": [
       "<div>\n",
       "<style scoped>\n",
       "    .dataframe tbody tr th:only-of-type {\n",
       "        vertical-align: middle;\n",
       "    }\n",
       "\n",
       "    .dataframe tbody tr th {\n",
       "        vertical-align: top;\n",
       "    }\n",
       "\n",
       "    .dataframe thead th {\n",
       "        text-align: right;\n",
       "    }\n",
       "</style>\n",
       "<table border=\"1\" class=\"dataframe\">\n",
       "  <thead>\n",
       "    <tr style=\"text-align: right;\">\n",
       "      <th></th>\n",
       "      <th>var</th>\n",
       "    </tr>\n",
       "  </thead>\n",
       "  <tbody>\n",
       "    <tr>\n",
       "      <th>Close</th>\n",
       "      <td>8.729507e+08</td>\n",
       "    </tr>\n",
       "    <tr>\n",
       "      <th>High</th>\n",
       "      <td>9.024867e+08</td>\n",
       "    </tr>\n",
       "    <tr>\n",
       "      <th>Low</th>\n",
       "      <td>8.394820e+08</td>\n",
       "    </tr>\n",
       "    <tr>\n",
       "      <th>Open</th>\n",
       "      <td>8.711655e+08</td>\n",
       "    </tr>\n",
       "    <tr>\n",
       "      <th>Volume</th>\n",
       "      <td>4.778730e+20</td>\n",
       "    </tr>\n",
       "  </tbody>\n",
       "</table>\n",
       "</div>"
      ],
      "text/plain": [
       "                 var\n",
       "Close   8.729507e+08\n",
       "High    9.024867e+08\n",
       "Low     8.394820e+08\n",
       "Open    8.711655e+08\n",
       "Volume  4.778730e+20"
      ]
     },
     "execution_count": 293,
     "metadata": {},
     "output_type": "execute_result"
    }
   ],
   "source": [
    "df.var().to_frame(name='var')"
   ]
  },
  {
   "cell_type": "code",
   "execution_count": 294,
   "id": "869c2636",
   "metadata": {},
   "outputs": [
    {
     "data": {
      "image/png": "[encoded data removed]",
      "text/plain": [
       "<Figure size 640x480 with 2 Axes>"
      ]
     },
     "metadata": {},
     "output_type": "display_data"
    }
   ],
   "source": [
    "plt.Figure(figsize=(8,6))\n",
    "sns.heatmap(df.corr(), annot=True, cmap=\"YlGn\", fmt=\".2f\")\n",
    "plt.show()\n"
   ]
  },
  {
   "cell_type": "code",
   "execution_count": 295,
   "id": "e77ca1bd",
   "metadata": {},
   "outputs": [
    {
     "data": {
      "image/png": "[encoded data removed]",
      "text/plain": [
       "<Figure size 1200x600 with 1 Axes>"
      ]
     },
     "metadata": {},
     "output_type": "display_data"
    }
   ],
   "source": [
    "plt.figure(figsize=(12,6))\n",
    "\n",
    "plt.plot(df.index, df['Close'], label='Close', color='green')\n",
    "plt.plot(df.index, df['Open'], label='Open', color='blue')\n",
    "plt.plot(df.index, df['High'], label='High', color='orange')\n",
    "plt.plot(df.index, df['Low'], label='Low', color='red')\n",
    "plt.plot(df.index, df['Volume'], label='Volume', color='purple')\n",
    "\n",
    "plt.title('Atributos ao longo do tempo')\n",
    "plt.xlabel('Data')\n",
    "plt.ylabel('Valores')\n",
    "plt.legend()\n",
    "plt.show()"
   ]
  },
  {
   "cell_type": "markdown",
   "id": "b2253f75",
   "metadata": {},
   "source": [
    "Aqui nao conseguimos visualizar bem porque o valor do volume é bem superior aos demais, para melhor visualização vou normalizar os dados"
   ]
  },
  {
   "cell_type": "code",
   "execution_count": 298,
   "id": "a824a24c",
   "metadata": {},
   "outputs": [],
   "source": [
    "scaler = MinMaxScaler(feature_range=(0,1))\n",
    "scaled_data = scaler.fit_transform(df)\n",
    "df = pd.DataFrame(scaled_data, columns=df.columns, index=df.index)"
   ]
  },
  {
   "cell_type": "code",
   "execution_count": 299,
   "id": "737dbee1",
   "metadata": {},
   "outputs": [
    {
     "data": {
      "image/png": "[encoded data removed]",
      "text/plain": [
       "<Figure size 1200x600 with 1 Axes>"
      ]
     },
     "metadata": {},
     "output_type": "display_data"
    }
   ],
   "source": [
    "plt.figure(figsize=(12,6))\n",
    "\n",
    "plt.plot(df.index, df['Close'], label='Close', color='green')\n",
    "plt.plot(df.index, df['Open'], label='Open', color='blue')\n",
    "plt.plot(df.index, df['High'], label='High', color='orange')\n",
    "plt.plot(df.index, df['Low'], label='Low', color='red')\n",
    "plt.plot(df.index, df['Volume'], label='Volume', color='purple')\n",
    "\n",
    "plt.title('Atributos ao longo do tempo')\n",
    "plt.xlabel('Data')\n",
    "plt.ylabel('Valores')\n",
    "plt.legend()\n",
    "plt.show()"
   ]
  },
  {
   "cell_type": "markdown",
   "id": "f91ebb7e",
   "metadata": {},
   "source": [
    "podemos notar que close, open, high e low possuem praticamente a mesma tendencia como acusado pela matriz de correlação, já o volume tem o comportamento diferente, com picos e quedas meio bruscas"
   ]
  }
 ],
 "metadata": {
  "kernelspec": {
   "display_name": "venv",
   "language": "python",
   "name": "python3"
  },
  "language_info": {
   "codemirror_mode": {
    "name": "ipython",
    "version": 3
   },
   "file_extension": ".py",
   "mimetype": "text/x-python",
   "name": "python",
   "nbconvert_exporter": "python",
   "pygments_lexer": "ipython3",
   "version": "3.12.3"
  }
 },
 "nbformat": 4,
 "nbformat_minor": 5
}
