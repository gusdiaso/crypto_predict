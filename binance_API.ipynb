{
 "cells": [
  {
   "cell_type": "markdown",
   "id": "e94e05fe",
   "metadata": {},
   "source": [
    "Criar API_KEY"
   ]
  }
 ],
 "metadata": {
  "language_info": {
   "name": "python"
  }
 },
 "nbformat": 4,
 "nbformat_minor": 5
}
