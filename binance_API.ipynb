{
 "cells": [
  {
   "cell_type": "markdown",
   "id": "e94e05fe",
   "metadata": {},
   "source": [
    "Criar API_KEY"
   ]
  },
  {
   "cell_type": "code",
   "execution_count": null,
   "id": "c2e4b8b8",
   "metadata": {},
   "outputs": [],
   "source": [
    "from binance.client import Client\n",
    "\n",
    "# Coloque sua API key e Secret Key\n",
    "api_key = 'SUA_API_KEY'\n",
    "api_secret = 'SUA_API_SECRET'\n",
    "client = Client(api_key, api_secret)\n",
    "\n",
    "# Pegar preço do Bitcoin\n",
    "btc_price = client.get_symbol_ticker(symbol=\"BTCUSDT\")\n",
    "print(btc_price)\n"
   ]
  }
 ],
 "metadata": {
  "language_info": {
   "name": "python"
  }
 },
 "nbformat": 4,
 "nbformat_minor": 5
}
